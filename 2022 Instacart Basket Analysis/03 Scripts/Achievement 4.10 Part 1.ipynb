{
 "cells": [
  {
   "cell_type": "markdown",
   "id": "b517b12f",
   "metadata": {},
   "source": [
    "# Table of Contents\n",
    "\n",
    "01. Import Libraries\n",
    "02. Import Data\n",
    "03. Task 4.10 Part 1\n",
    "\n",
    "\n"
   ]
  },
  {
   "cell_type": "markdown",
   "id": "bbc33eae",
   "metadata": {},
   "source": [
    "# 01. Import Libraries"
   ]
  },
  {
   "cell_type": "code",
   "execution_count": 1,
   "id": "8fdc6ff8",
   "metadata": {},
   "outputs": [],
   "source": [
    "import pandas as pd\n",
    "import numpy as np\n",
    "import os\n",
    "import matplotlib.pyplot as plt\n",
    "import seaborn as sns\n",
    "import scipy"
   ]
  },
  {
   "cell_type": "markdown",
   "id": "a3d7fdf2",
   "metadata": {},
   "source": [
    "# 02. Import Data"
   ]
  },
  {
   "cell_type": "code",
   "execution_count": 2,
   "id": "6c1d262c",
   "metadata": {},
   "outputs": [],
   "source": [
    "path = r'C:\\Users\\cmkep\\Cathy\\2022 Instacart Basket Analysis'"
   ]
  },
  {
   "cell_type": "code",
   "execution_count": 3,
   "id": "c91c31ad",
   "metadata": {},
   "outputs": [],
   "source": [
    "ords_prods_all = pd.read_pickle(os.path.join(path, '02 Data', 'Prepared Data', 'orders_products_customers(2).pkl'))"
   ]
  },
  {
   "cell_type": "code",
   "execution_count": 4,
   "id": "529cbdbf",
   "metadata": {},
   "outputs": [],
   "source": [
    "dep_freq = pd.read_csv(os.path.join(path, '02 Data', 'Prepared Data', 'departments_wrangled.csv'))"
   ]
  },
  {
   "cell_type": "code",
   "execution_count": 4,
   "id": "100263ce",
   "metadata": {},
   "outputs": [
    {
     "data": {
      "text/html": [
       "<div>\n",
       "<style scoped>\n",
       "    .dataframe tbody tr th:only-of-type {\n",
       "        vertical-align: middle;\n",
       "    }\n",
       "\n",
       "    .dataframe tbody tr th {\n",
       "        vertical-align: top;\n",
       "    }\n",
       "\n",
       "    .dataframe thead th {\n",
       "        text-align: right;\n",
       "    }\n",
       "</style>\n",
       "<table border=\"1\" class=\"dataframe\">\n",
       "  <thead>\n",
       "    <tr style=\"text-align: right;\">\n",
       "      <th></th>\n",
       "      <th>order_id</th>\n",
       "      <th>user_id</th>\n",
       "      <th>order_number</th>\n",
       "      <th>orders_day_of_week</th>\n",
       "      <th>order_hour_of_day</th>\n",
       "      <th>days_since_prior_order</th>\n",
       "      <th>product_id</th>\n",
       "      <th>add_to_cart_order</th>\n",
       "      <th>reordered</th>\n",
       "      <th>product_name</th>\n",
       "      <th>...</th>\n",
       "      <th>loyalty_flag</th>\n",
       "      <th>Spending_flag</th>\n",
       "      <th>order_frequency</th>\n",
       "      <th>frequency_flag</th>\n",
       "      <th>state</th>\n",
       "      <th>age</th>\n",
       "      <th>#_dependants</th>\n",
       "      <th>fam_status</th>\n",
       "      <th>income</th>\n",
       "      <th>exists</th>\n",
       "    </tr>\n",
       "  </thead>\n",
       "  <tbody>\n",
       "    <tr>\n",
       "      <th>0</th>\n",
       "      <td>2539329</td>\n",
       "      <td>1</td>\n",
       "      <td>1</td>\n",
       "      <td>2</td>\n",
       "      <td>8</td>\n",
       "      <td>NaN</td>\n",
       "      <td>196</td>\n",
       "      <td>1</td>\n",
       "      <td>0</td>\n",
       "      <td>Soda</td>\n",
       "      <td>...</td>\n",
       "      <td>New customer</td>\n",
       "      <td>Low Spender</td>\n",
       "      <td>20.5</td>\n",
       "      <td>Non-frequent customer</td>\n",
       "      <td>Alabama</td>\n",
       "      <td>31</td>\n",
       "      <td>3</td>\n",
       "      <td>married</td>\n",
       "      <td>40423</td>\n",
       "      <td>both</td>\n",
       "    </tr>\n",
       "    <tr>\n",
       "      <th>1</th>\n",
       "      <td>2398795</td>\n",
       "      <td>1</td>\n",
       "      <td>2</td>\n",
       "      <td>3</td>\n",
       "      <td>7</td>\n",
       "      <td>15.0</td>\n",
       "      <td>196</td>\n",
       "      <td>1</td>\n",
       "      <td>1</td>\n",
       "      <td>Soda</td>\n",
       "      <td>...</td>\n",
       "      <td>New customer</td>\n",
       "      <td>Low Spender</td>\n",
       "      <td>20.5</td>\n",
       "      <td>Non-frequent customer</td>\n",
       "      <td>Alabama</td>\n",
       "      <td>31</td>\n",
       "      <td>3</td>\n",
       "      <td>married</td>\n",
       "      <td>40423</td>\n",
       "      <td>both</td>\n",
       "    </tr>\n",
       "    <tr>\n",
       "      <th>2</th>\n",
       "      <td>473747</td>\n",
       "      <td>1</td>\n",
       "      <td>3</td>\n",
       "      <td>3</td>\n",
       "      <td>12</td>\n",
       "      <td>21.0</td>\n",
       "      <td>196</td>\n",
       "      <td>1</td>\n",
       "      <td>1</td>\n",
       "      <td>Soda</td>\n",
       "      <td>...</td>\n",
       "      <td>New customer</td>\n",
       "      <td>Low Spender</td>\n",
       "      <td>20.5</td>\n",
       "      <td>Non-frequent customer</td>\n",
       "      <td>Alabama</td>\n",
       "      <td>31</td>\n",
       "      <td>3</td>\n",
       "      <td>married</td>\n",
       "      <td>40423</td>\n",
       "      <td>both</td>\n",
       "    </tr>\n",
       "    <tr>\n",
       "      <th>3</th>\n",
       "      <td>2254736</td>\n",
       "      <td>1</td>\n",
       "      <td>4</td>\n",
       "      <td>4</td>\n",
       "      <td>7</td>\n",
       "      <td>29.0</td>\n",
       "      <td>196</td>\n",
       "      <td>1</td>\n",
       "      <td>1</td>\n",
       "      <td>Soda</td>\n",
       "      <td>...</td>\n",
       "      <td>New customer</td>\n",
       "      <td>Low Spender</td>\n",
       "      <td>20.5</td>\n",
       "      <td>Non-frequent customer</td>\n",
       "      <td>Alabama</td>\n",
       "      <td>31</td>\n",
       "      <td>3</td>\n",
       "      <td>married</td>\n",
       "      <td>40423</td>\n",
       "      <td>both</td>\n",
       "    </tr>\n",
       "    <tr>\n",
       "      <th>4</th>\n",
       "      <td>431534</td>\n",
       "      <td>1</td>\n",
       "      <td>5</td>\n",
       "      <td>4</td>\n",
       "      <td>15</td>\n",
       "      <td>28.0</td>\n",
       "      <td>196</td>\n",
       "      <td>1</td>\n",
       "      <td>1</td>\n",
       "      <td>Soda</td>\n",
       "      <td>...</td>\n",
       "      <td>New customer</td>\n",
       "      <td>Low Spender</td>\n",
       "      <td>20.5</td>\n",
       "      <td>Non-frequent customer</td>\n",
       "      <td>Alabama</td>\n",
       "      <td>31</td>\n",
       "      <td>3</td>\n",
       "      <td>married</td>\n",
       "      <td>40423</td>\n",
       "      <td>both</td>\n",
       "    </tr>\n",
       "  </tbody>\n",
       "</table>\n",
       "<p>5 rows × 28 columns</p>\n",
       "</div>"
      ],
      "text/plain": [
       "   order_id  user_id  order_number  orders_day_of_week  order_hour_of_day  \\\n",
       "0   2539329        1             1                   2                  8   \n",
       "1   2398795        1             2                   3                  7   \n",
       "2    473747        1             3                   3                 12   \n",
       "3   2254736        1             4                   4                  7   \n",
       "4    431534        1             5                   4                 15   \n",
       "\n",
       "   days_since_prior_order  product_id  add_to_cart_order  reordered  \\\n",
       "0                     NaN         196                  1          0   \n",
       "1                    15.0         196                  1          1   \n",
       "2                    21.0         196                  1          1   \n",
       "3                    29.0         196                  1          1   \n",
       "4                    28.0         196                  1          1   \n",
       "\n",
       "  product_name  ...  loyalty_flag  Spending_flag  order_frequency  \\\n",
       "0         Soda  ...  New customer    Low Spender             20.5   \n",
       "1         Soda  ...  New customer    Low Spender             20.5   \n",
       "2         Soda  ...  New customer    Low Spender             20.5   \n",
       "3         Soda  ...  New customer    Low Spender             20.5   \n",
       "4         Soda  ...  New customer    Low Spender             20.5   \n",
       "\n",
       "          frequency_flag    state age #_dependants  fam_status income exists  \n",
       "0  Non-frequent customer  Alabama  31            3     married  40423   both  \n",
       "1  Non-frequent customer  Alabama  31            3     married  40423   both  \n",
       "2  Non-frequent customer  Alabama  31            3     married  40423   both  \n",
       "3  Non-frequent customer  Alabama  31            3     married  40423   both  \n",
       "4  Non-frequent customer  Alabama  31            3     married  40423   both  \n",
       "\n",
       "[5 rows x 28 columns]"
      ]
     },
     "execution_count": 4,
     "metadata": {},
     "output_type": "execute_result"
    }
   ],
   "source": [
    "ords_prods_all.head()"
   ]
  },
  {
   "cell_type": "code",
   "execution_count": 13,
   "id": "2a4fdf70",
   "metadata": {},
   "outputs": [
    {
     "data": {
      "text/plain": [
       "order_id                     int32\n",
       "user_id                      int32\n",
       "order_number                  int8\n",
       "orders_day_of_week            int8\n",
       "order_hour_of_day             int8\n",
       "days_since_prior_order     float16\n",
       "product_id                   int32\n",
       "add_to_cart_order            int32\n",
       "reordered                     int8\n",
       "product_name                object\n",
       "aisle_id                     int32\n",
       "department_id                 int8\n",
       "prices                     float64\n",
       "_merge                    category\n",
       "price_range_loc             object\n",
       "busiest_days                object\n",
       "busiest_period_of_day       object\n",
       "max_order                     int8\n",
       "loyalty_flag                object\n",
       "Spending_flag               object\n",
       "order_frequency            float16\n",
       "frequency_flag              object\n",
       "state                       object\n",
       "age                           int8\n",
       "#_dependants                  int8\n",
       "fam_status                  object\n",
       "income                       int32\n",
       "exists                    category\n",
       "region                      object\n",
       "dtype: object"
      ]
     },
     "execution_count": 13,
     "metadata": {},
     "output_type": "execute_result"
    }
   ],
   "source": [
    "ords_prods_all.dtypes"
   ]
  },
  {
   "cell_type": "markdown",
   "id": "5ed68971",
   "metadata": {},
   "source": [
    "# 03. Task 4.10 Part 1"
   ]
  },
  {
   "cell_type": "markdown",
   "id": "8e49bf1f",
   "metadata": {},
   "source": [
    "# Step 2. Consider any security implications that might exist for this new data. You’ll need to address any PII data in the data before continuing your analysis."
   ]
  },
  {
   "cell_type": "markdown",
   "id": "a15d1d5a",
   "metadata": {},
   "source": [
    "Step 2 Answer: The combination of first name, surname, gender and age represent a security concern. As a customer's first name, surname, and gender are irrelevant for our analyses, these columns were already dropped in Task 4.9."
   ]
  },
  {
   "cell_type": "markdown",
   "id": "43107e6b",
   "metadata": {},
   "source": [
    "# Step 3."
   ]
  },
  {
   "cell_type": "code",
   "execution_count": 5,
   "id": "e1f5342e",
   "metadata": {},
   "outputs": [],
   "source": [
    "#Step 3A: Create Regions\n",
    "\n",
    "Northeast = ['Maine','New Hampshire','Vermont','Massachusetts','Rhode Island','Connecticut','New York','Pennsylvania','New Jersey']\n",
    "Midwest = ['Wisconsin','Michigan','Illinois','Indiana','Ohio','North Dakota','South Dakota','Nebraska','Kansas','Minnesota','Iowa','Missouri']\n",
    "South = ['Delaware','Maryland','District of Columbia','Virginia','West Virginia','North Carolina','South Carolina','Georgia','Florida','Kentucky', 'Tennessee','Mississippi','Alabama','Oklahoma','Texas','Arkansas','Louisiana']\n",
    "West = ['Idaho','Montana','Wyoming','Nevada','Utah','Colorado','Arizona','New Mexico','Alaska','Washington','Oregon','California','Hawaii']"
   ]
  },
  {
   "cell_type": "code",
   "execution_count": 7,
   "id": "436316b6",
   "metadata": {},
   "outputs": [],
   "source": [
    "#Create 'region' flag\n",
    "\n",
    "ords_prods_all.loc[ords_prods_all['state'].isin(Northeast), 'region'] = 'Northeast'\n",
    "ords_prods_all.loc[ords_prods_all['state'].isin(Midwest), 'region'] = 'Midwest'\n",
    "ords_prods_all.loc[ords_prods_all['state'].isin(South), 'region'] = 'South'\n",
    "ords_prods_all.loc[ords_prods_all['state'].isin(West), 'region'] = 'West'"
   ]
  },
  {
   "cell_type": "code",
   "execution_count": 8,
   "id": "bfcb9670",
   "metadata": {},
   "outputs": [
    {
     "data": {
      "text/plain": [
       "South        10801610\n",
       "West          8300445\n",
       "Midwest       7603810\n",
       "Northeast     5728347\n",
       "Name: region, dtype: int64"
      ]
     },
     "execution_count": 8,
     "metadata": {},
     "output_type": "execute_result"
    }
   ],
   "source": [
    "ords_prods_all['region'].value_counts(dropna = False)"
   ]
  },
  {
   "cell_type": "code",
   "execution_count": 9,
   "id": "323b1ed5",
   "metadata": {},
   "outputs": [
    {
     "data": {
      "text/html": [
       "<div>\n",
       "<style scoped>\n",
       "    .dataframe tbody tr th:only-of-type {\n",
       "        vertical-align: middle;\n",
       "    }\n",
       "\n",
       "    .dataframe tbody tr th {\n",
       "        vertical-align: top;\n",
       "    }\n",
       "\n",
       "    .dataframe thead th {\n",
       "        text-align: right;\n",
       "    }\n",
       "</style>\n",
       "<table border=\"1\" class=\"dataframe\">\n",
       "  <thead>\n",
       "    <tr style=\"text-align: right;\">\n",
       "      <th></th>\n",
       "      <th>order_id</th>\n",
       "      <th>user_id</th>\n",
       "      <th>order_number</th>\n",
       "      <th>orders_day_of_week</th>\n",
       "      <th>order_hour_of_day</th>\n",
       "      <th>days_since_prior_order</th>\n",
       "      <th>product_id</th>\n",
       "      <th>add_to_cart_order</th>\n",
       "      <th>reordered</th>\n",
       "      <th>product_name</th>\n",
       "      <th>...</th>\n",
       "      <th>Spending_flag</th>\n",
       "      <th>order_frequency</th>\n",
       "      <th>frequency_flag</th>\n",
       "      <th>state</th>\n",
       "      <th>age</th>\n",
       "      <th>#_dependants</th>\n",
       "      <th>fam_status</th>\n",
       "      <th>income</th>\n",
       "      <th>exists</th>\n",
       "      <th>region</th>\n",
       "    </tr>\n",
       "  </thead>\n",
       "  <tbody>\n",
       "    <tr>\n",
       "      <th>0</th>\n",
       "      <td>2539329</td>\n",
       "      <td>1</td>\n",
       "      <td>1</td>\n",
       "      <td>2</td>\n",
       "      <td>8</td>\n",
       "      <td>NaN</td>\n",
       "      <td>196</td>\n",
       "      <td>1</td>\n",
       "      <td>0</td>\n",
       "      <td>Soda</td>\n",
       "      <td>...</td>\n",
       "      <td>Low Spender</td>\n",
       "      <td>20.5</td>\n",
       "      <td>Non-frequent customer</td>\n",
       "      <td>Alabama</td>\n",
       "      <td>31</td>\n",
       "      <td>3</td>\n",
       "      <td>married</td>\n",
       "      <td>40423</td>\n",
       "      <td>both</td>\n",
       "      <td>South</td>\n",
       "    </tr>\n",
       "    <tr>\n",
       "      <th>1</th>\n",
       "      <td>2398795</td>\n",
       "      <td>1</td>\n",
       "      <td>2</td>\n",
       "      <td>3</td>\n",
       "      <td>7</td>\n",
       "      <td>15.0</td>\n",
       "      <td>196</td>\n",
       "      <td>1</td>\n",
       "      <td>1</td>\n",
       "      <td>Soda</td>\n",
       "      <td>...</td>\n",
       "      <td>Low Spender</td>\n",
       "      <td>20.5</td>\n",
       "      <td>Non-frequent customer</td>\n",
       "      <td>Alabama</td>\n",
       "      <td>31</td>\n",
       "      <td>3</td>\n",
       "      <td>married</td>\n",
       "      <td>40423</td>\n",
       "      <td>both</td>\n",
       "      <td>South</td>\n",
       "    </tr>\n",
       "    <tr>\n",
       "      <th>2</th>\n",
       "      <td>473747</td>\n",
       "      <td>1</td>\n",
       "      <td>3</td>\n",
       "      <td>3</td>\n",
       "      <td>12</td>\n",
       "      <td>21.0</td>\n",
       "      <td>196</td>\n",
       "      <td>1</td>\n",
       "      <td>1</td>\n",
       "      <td>Soda</td>\n",
       "      <td>...</td>\n",
       "      <td>Low Spender</td>\n",
       "      <td>20.5</td>\n",
       "      <td>Non-frequent customer</td>\n",
       "      <td>Alabama</td>\n",
       "      <td>31</td>\n",
       "      <td>3</td>\n",
       "      <td>married</td>\n",
       "      <td>40423</td>\n",
       "      <td>both</td>\n",
       "      <td>South</td>\n",
       "    </tr>\n",
       "    <tr>\n",
       "      <th>3</th>\n",
       "      <td>2254736</td>\n",
       "      <td>1</td>\n",
       "      <td>4</td>\n",
       "      <td>4</td>\n",
       "      <td>7</td>\n",
       "      <td>29.0</td>\n",
       "      <td>196</td>\n",
       "      <td>1</td>\n",
       "      <td>1</td>\n",
       "      <td>Soda</td>\n",
       "      <td>...</td>\n",
       "      <td>Low Spender</td>\n",
       "      <td>20.5</td>\n",
       "      <td>Non-frequent customer</td>\n",
       "      <td>Alabama</td>\n",
       "      <td>31</td>\n",
       "      <td>3</td>\n",
       "      <td>married</td>\n",
       "      <td>40423</td>\n",
       "      <td>both</td>\n",
       "      <td>South</td>\n",
       "    </tr>\n",
       "    <tr>\n",
       "      <th>4</th>\n",
       "      <td>431534</td>\n",
       "      <td>1</td>\n",
       "      <td>5</td>\n",
       "      <td>4</td>\n",
       "      <td>15</td>\n",
       "      <td>28.0</td>\n",
       "      <td>196</td>\n",
       "      <td>1</td>\n",
       "      <td>1</td>\n",
       "      <td>Soda</td>\n",
       "      <td>...</td>\n",
       "      <td>Low Spender</td>\n",
       "      <td>20.5</td>\n",
       "      <td>Non-frequent customer</td>\n",
       "      <td>Alabama</td>\n",
       "      <td>31</td>\n",
       "      <td>3</td>\n",
       "      <td>married</td>\n",
       "      <td>40423</td>\n",
       "      <td>both</td>\n",
       "      <td>South</td>\n",
       "    </tr>\n",
       "  </tbody>\n",
       "</table>\n",
       "<p>5 rows × 29 columns</p>\n",
       "</div>"
      ],
      "text/plain": [
       "   order_id  user_id  order_number  orders_day_of_week  order_hour_of_day  \\\n",
       "0   2539329        1             1                   2                  8   \n",
       "1   2398795        1             2                   3                  7   \n",
       "2    473747        1             3                   3                 12   \n",
       "3   2254736        1             4                   4                  7   \n",
       "4    431534        1             5                   4                 15   \n",
       "\n",
       "   days_since_prior_order  product_id  add_to_cart_order  reordered  \\\n",
       "0                     NaN         196                  1          0   \n",
       "1                    15.0         196                  1          1   \n",
       "2                    21.0         196                  1          1   \n",
       "3                    29.0         196                  1          1   \n",
       "4                    28.0         196                  1          1   \n",
       "\n",
       "  product_name  ...  Spending_flag  order_frequency         frequency_flag  \\\n",
       "0         Soda  ...    Low Spender             20.5  Non-frequent customer   \n",
       "1         Soda  ...    Low Spender             20.5  Non-frequent customer   \n",
       "2         Soda  ...    Low Spender             20.5  Non-frequent customer   \n",
       "3         Soda  ...    Low Spender             20.5  Non-frequent customer   \n",
       "4         Soda  ...    Low Spender             20.5  Non-frequent customer   \n",
       "\n",
       "     state age #_dependants fam_status  income exists region  \n",
       "0  Alabama  31            3    married   40423   both  South  \n",
       "1  Alabama  31            3    married   40423   both  South  \n",
       "2  Alabama  31            3    married   40423   both  South  \n",
       "3  Alabama  31            3    married   40423   both  South  \n",
       "4  Alabama  31            3    married   40423   both  South  \n",
       "\n",
       "[5 rows x 29 columns]"
      ]
     },
     "execution_count": 9,
     "metadata": {},
     "output_type": "execute_result"
    }
   ],
   "source": [
    "ords_prods_all.head(5)"
   ]
  },
  {
   "cell_type": "code",
   "execution_count": 10,
   "id": "43b9ebe6",
   "metadata": {},
   "outputs": [],
   "source": [
    "# Step 3B: Determine whether there’s a difference in spending habits between the different U.S. regions.\n",
    "\n",
    "crosstab = pd.crosstab(ords_prods_all['region'], ords_prods_all['Spending_flag'], dropna = False)"
   ]
  },
  {
   "cell_type": "code",
   "execution_count": 11,
   "id": "91c2f556",
   "metadata": {},
   "outputs": [
    {
     "data": {
      "text/html": [
       "<div>\n",
       "<style scoped>\n",
       "    .dataframe tbody tr th:only-of-type {\n",
       "        vertical-align: middle;\n",
       "    }\n",
       "\n",
       "    .dataframe tbody tr th {\n",
       "        vertical-align: top;\n",
       "    }\n",
       "\n",
       "    .dataframe thead th {\n",
       "        text-align: right;\n",
       "    }\n",
       "</style>\n",
       "<table border=\"1\" class=\"dataframe\">\n",
       "  <thead>\n",
       "    <tr style=\"text-align: right;\">\n",
       "      <th>Spending_flag</th>\n",
       "      <th>High Spender</th>\n",
       "      <th>Low Spender</th>\n",
       "    </tr>\n",
       "    <tr>\n",
       "      <th>region</th>\n",
       "      <th></th>\n",
       "      <th></th>\n",
       "    </tr>\n",
       "  </thead>\n",
       "  <tbody>\n",
       "    <tr>\n",
       "      <th>Midwest</th>\n",
       "      <td>2503257</td>\n",
       "      <td>5100553</td>\n",
       "    </tr>\n",
       "    <tr>\n",
       "      <th>Northeast</th>\n",
       "      <td>1880583</td>\n",
       "      <td>3847764</td>\n",
       "    </tr>\n",
       "    <tr>\n",
       "      <th>South</th>\n",
       "      <td>3558931</td>\n",
       "      <td>7242679</td>\n",
       "    </tr>\n",
       "    <tr>\n",
       "      <th>West</th>\n",
       "      <td>2729318</td>\n",
       "      <td>5571127</td>\n",
       "    </tr>\n",
       "  </tbody>\n",
       "</table>\n",
       "</div>"
      ],
      "text/plain": [
       "Spending_flag  High Spender  Low Spender\n",
       "region                                  \n",
       "Midwest             2503257      5100553\n",
       "Northeast           1880583      3847764\n",
       "South               3558931      7242679\n",
       "West                2729318      5571127"
      ]
     },
     "execution_count": 11,
     "metadata": {},
     "output_type": "execute_result"
    }
   ],
   "source": [
    "crosstab"
   ]
  },
  {
   "cell_type": "markdown",
   "id": "c8487ba8",
   "metadata": {},
   "source": [
    "All regions have a higher population of customers classified as \"Low Spender.\""
   ]
  },
  {
   "cell_type": "markdown",
   "id": "59a83176",
   "metadata": {},
   "source": [
    "# Step 4."
   ]
  },
  {
   "cell_type": "code",
   "execution_count": 4,
   "id": "790ef271",
   "metadata": {},
   "outputs": [],
   "source": [
    "#Step 4: create activity flag\n",
    "\n",
    "ords_prods_all.loc[ords_prods_all['max_order'] >= 5, 'activity_flag'] = 'High Activity'\n",
    "ords_prods_all.loc[ords_prods_all['max_order'] < 5, 'activity_flag'] = 'Low Activity'"
   ]
  },
  {
   "cell_type": "code",
   "execution_count": 15,
   "id": "0fb73008",
   "metadata": {},
   "outputs": [
    {
     "data": {
      "text/plain": [
       "High Activity    30992664\n",
       "Low Activity      1441548\n",
       "Name: activity_flag, dtype: int64"
      ]
     },
     "execution_count": 15,
     "metadata": {},
     "output_type": "execute_result"
    }
   ],
   "source": [
    "ords_prods_all['activity_flag'].value_counts(dropna = False)"
   ]
  },
  {
   "cell_type": "code",
   "execution_count": 5,
   "id": "971616cd",
   "metadata": {},
   "outputs": [],
   "source": [
    "#create Low Activity dataframe\n",
    "\n",
    "df_Low_Activity = ords_prods_all[ords_prods_all['activity_flag'] == 'Low Activity']"
   ]
  },
  {
   "cell_type": "code",
   "execution_count": 17,
   "id": "69eb7bc4",
   "metadata": {},
   "outputs": [
    {
     "data": {
      "text/html": [
       "<div>\n",
       "<style scoped>\n",
       "    .dataframe tbody tr th:only-of-type {\n",
       "        vertical-align: middle;\n",
       "    }\n",
       "\n",
       "    .dataframe tbody tr th {\n",
       "        vertical-align: top;\n",
       "    }\n",
       "\n",
       "    .dataframe thead th {\n",
       "        text-align: right;\n",
       "    }\n",
       "</style>\n",
       "<table border=\"1\" class=\"dataframe\">\n",
       "  <thead>\n",
       "    <tr style=\"text-align: right;\">\n",
       "      <th></th>\n",
       "      <th>order_id</th>\n",
       "      <th>user_id</th>\n",
       "      <th>order_number</th>\n",
       "      <th>orders_day_of_week</th>\n",
       "      <th>order_hour_of_day</th>\n",
       "      <th>days_since_prior_order</th>\n",
       "      <th>product_id</th>\n",
       "      <th>add_to_cart_order</th>\n",
       "      <th>reordered</th>\n",
       "      <th>product_name</th>\n",
       "      <th>...</th>\n",
       "      <th>order_frequency</th>\n",
       "      <th>frequency_flag</th>\n",
       "      <th>state</th>\n",
       "      <th>age</th>\n",
       "      <th>#_dependants</th>\n",
       "      <th>fam_status</th>\n",
       "      <th>income</th>\n",
       "      <th>exists</th>\n",
       "      <th>region</th>\n",
       "      <th>activity_flag</th>\n",
       "    </tr>\n",
       "  </thead>\n",
       "  <tbody>\n",
       "    <tr>\n",
       "      <th>1513</th>\n",
       "      <td>520620</td>\n",
       "      <td>120</td>\n",
       "      <td>1</td>\n",
       "      <td>3</td>\n",
       "      <td>11</td>\n",
       "      <td>NaN</td>\n",
       "      <td>196</td>\n",
       "      <td>2</td>\n",
       "      <td>0</td>\n",
       "      <td>Soda</td>\n",
       "      <td>...</td>\n",
       "      <td>19.0</td>\n",
       "      <td>Regular customer</td>\n",
       "      <td>Kentucky</td>\n",
       "      <td>54</td>\n",
       "      <td>2</td>\n",
       "      <td>married</td>\n",
       "      <td>99219</td>\n",
       "      <td>both</td>\n",
       "      <td>South</td>\n",
       "      <td>Low Activity</td>\n",
       "    </tr>\n",
       "    <tr>\n",
       "      <th>1514</th>\n",
       "      <td>3273029</td>\n",
       "      <td>120</td>\n",
       "      <td>3</td>\n",
       "      <td>2</td>\n",
       "      <td>8</td>\n",
       "      <td>19.0</td>\n",
       "      <td>196</td>\n",
       "      <td>2</td>\n",
       "      <td>1</td>\n",
       "      <td>Soda</td>\n",
       "      <td>...</td>\n",
       "      <td>19.0</td>\n",
       "      <td>Regular customer</td>\n",
       "      <td>Kentucky</td>\n",
       "      <td>54</td>\n",
       "      <td>2</td>\n",
       "      <td>married</td>\n",
       "      <td>99219</td>\n",
       "      <td>both</td>\n",
       "      <td>South</td>\n",
       "      <td>Low Activity</td>\n",
       "    </tr>\n",
       "    <tr>\n",
       "      <th>1515</th>\n",
       "      <td>520620</td>\n",
       "      <td>120</td>\n",
       "      <td>1</td>\n",
       "      <td>3</td>\n",
       "      <td>11</td>\n",
       "      <td>NaN</td>\n",
       "      <td>46149</td>\n",
       "      <td>1</td>\n",
       "      <td>0</td>\n",
       "      <td>Zero Calorie Cola</td>\n",
       "      <td>...</td>\n",
       "      <td>19.0</td>\n",
       "      <td>Regular customer</td>\n",
       "      <td>Kentucky</td>\n",
       "      <td>54</td>\n",
       "      <td>2</td>\n",
       "      <td>married</td>\n",
       "      <td>99219</td>\n",
       "      <td>both</td>\n",
       "      <td>South</td>\n",
       "      <td>Low Activity</td>\n",
       "    </tr>\n",
       "    <tr>\n",
       "      <th>1516</th>\n",
       "      <td>3273029</td>\n",
       "      <td>120</td>\n",
       "      <td>3</td>\n",
       "      <td>2</td>\n",
       "      <td>8</td>\n",
       "      <td>19.0</td>\n",
       "      <td>46149</td>\n",
       "      <td>1</td>\n",
       "      <td>1</td>\n",
       "      <td>Zero Calorie Cola</td>\n",
       "      <td>...</td>\n",
       "      <td>19.0</td>\n",
       "      <td>Regular customer</td>\n",
       "      <td>Kentucky</td>\n",
       "      <td>54</td>\n",
       "      <td>2</td>\n",
       "      <td>married</td>\n",
       "      <td>99219</td>\n",
       "      <td>both</td>\n",
       "      <td>South</td>\n",
       "      <td>Low Activity</td>\n",
       "    </tr>\n",
       "    <tr>\n",
       "      <th>1517</th>\n",
       "      <td>520620</td>\n",
       "      <td>120</td>\n",
       "      <td>1</td>\n",
       "      <td>3</td>\n",
       "      <td>11</td>\n",
       "      <td>NaN</td>\n",
       "      <td>26348</td>\n",
       "      <td>3</td>\n",
       "      <td>0</td>\n",
       "      <td>Mixed Fruit Fruit Snacks</td>\n",
       "      <td>...</td>\n",
       "      <td>19.0</td>\n",
       "      <td>Regular customer</td>\n",
       "      <td>Kentucky</td>\n",
       "      <td>54</td>\n",
       "      <td>2</td>\n",
       "      <td>married</td>\n",
       "      <td>99219</td>\n",
       "      <td>both</td>\n",
       "      <td>South</td>\n",
       "      <td>Low Activity</td>\n",
       "    </tr>\n",
       "    <tr>\n",
       "      <th>...</th>\n",
       "      <td>...</td>\n",
       "      <td>...</td>\n",
       "      <td>...</td>\n",
       "      <td>...</td>\n",
       "      <td>...</td>\n",
       "      <td>...</td>\n",
       "      <td>...</td>\n",
       "      <td>...</td>\n",
       "      <td>...</td>\n",
       "      <td>...</td>\n",
       "      <td>...</td>\n",
       "      <td>...</td>\n",
       "      <td>...</td>\n",
       "      <td>...</td>\n",
       "      <td>...</td>\n",
       "      <td>...</td>\n",
       "      <td>...</td>\n",
       "      <td>...</td>\n",
       "      <td>...</td>\n",
       "      <td>...</td>\n",
       "      <td>...</td>\n",
       "    </tr>\n",
       "    <tr>\n",
       "      <th>32434181</th>\n",
       "      <td>1947537</td>\n",
       "      <td>166751</td>\n",
       "      <td>3</td>\n",
       "      <td>4</td>\n",
       "      <td>7</td>\n",
       "      <td>0.0</td>\n",
       "      <td>49001</td>\n",
       "      <td>1</td>\n",
       "      <td>1</td>\n",
       "      <td>Melatonin 2.5 Mg Sublingual Orange Tablets</td>\n",
       "      <td>...</td>\n",
       "      <td>10.0</td>\n",
       "      <td>Frequent customer</td>\n",
       "      <td>Oregon</td>\n",
       "      <td>38</td>\n",
       "      <td>1</td>\n",
       "      <td>married</td>\n",
       "      <td>41766</td>\n",
       "      <td>both</td>\n",
       "      <td>West</td>\n",
       "      <td>Low Activity</td>\n",
       "    </tr>\n",
       "    <tr>\n",
       "      <th>32434208</th>\n",
       "      <td>484769</td>\n",
       "      <td>66343</td>\n",
       "      <td>1</td>\n",
       "      <td>6</td>\n",
       "      <td>11</td>\n",
       "      <td>NaN</td>\n",
       "      <td>47210</td>\n",
       "      <td>1</td>\n",
       "      <td>0</td>\n",
       "      <td>Fresh Farmed Tilapia Fillet</td>\n",
       "      <td>...</td>\n",
       "      <td>30.0</td>\n",
       "      <td>Non-frequent customer</td>\n",
       "      <td>Tennessee</td>\n",
       "      <td>22</td>\n",
       "      <td>3</td>\n",
       "      <td>married</td>\n",
       "      <td>46151</td>\n",
       "      <td>both</td>\n",
       "      <td>South</td>\n",
       "      <td>Low Activity</td>\n",
       "    </tr>\n",
       "    <tr>\n",
       "      <th>32434209</th>\n",
       "      <td>1561557</td>\n",
       "      <td>66343</td>\n",
       "      <td>2</td>\n",
       "      <td>1</td>\n",
       "      <td>11</td>\n",
       "      <td>30.0</td>\n",
       "      <td>47210</td>\n",
       "      <td>1</td>\n",
       "      <td>1</td>\n",
       "      <td>Fresh Farmed Tilapia Fillet</td>\n",
       "      <td>...</td>\n",
       "      <td>30.0</td>\n",
       "      <td>Non-frequent customer</td>\n",
       "      <td>Tennessee</td>\n",
       "      <td>22</td>\n",
       "      <td>3</td>\n",
       "      <td>married</td>\n",
       "      <td>46151</td>\n",
       "      <td>both</td>\n",
       "      <td>South</td>\n",
       "      <td>Low Activity</td>\n",
       "    </tr>\n",
       "    <tr>\n",
       "      <th>32434210</th>\n",
       "      <td>276317</td>\n",
       "      <td>66343</td>\n",
       "      <td>3</td>\n",
       "      <td>6</td>\n",
       "      <td>15</td>\n",
       "      <td>19.0</td>\n",
       "      <td>47210</td>\n",
       "      <td>1</td>\n",
       "      <td>1</td>\n",
       "      <td>Fresh Farmed Tilapia Fillet</td>\n",
       "      <td>...</td>\n",
       "      <td>30.0</td>\n",
       "      <td>Non-frequent customer</td>\n",
       "      <td>Tennessee</td>\n",
       "      <td>22</td>\n",
       "      <td>3</td>\n",
       "      <td>married</td>\n",
       "      <td>46151</td>\n",
       "      <td>both</td>\n",
       "      <td>South</td>\n",
       "      <td>Low Activity</td>\n",
       "    </tr>\n",
       "    <tr>\n",
       "      <th>32434211</th>\n",
       "      <td>2922475</td>\n",
       "      <td>66343</td>\n",
       "      <td>4</td>\n",
       "      <td>1</td>\n",
       "      <td>12</td>\n",
       "      <td>30.0</td>\n",
       "      <td>47210</td>\n",
       "      <td>1</td>\n",
       "      <td>1</td>\n",
       "      <td>Fresh Farmed Tilapia Fillet</td>\n",
       "      <td>...</td>\n",
       "      <td>30.0</td>\n",
       "      <td>Non-frequent customer</td>\n",
       "      <td>Tennessee</td>\n",
       "      <td>22</td>\n",
       "      <td>3</td>\n",
       "      <td>married</td>\n",
       "      <td>46151</td>\n",
       "      <td>both</td>\n",
       "      <td>South</td>\n",
       "      <td>Low Activity</td>\n",
       "    </tr>\n",
       "  </tbody>\n",
       "</table>\n",
       "<p>1441548 rows × 30 columns</p>\n",
       "</div>"
      ],
      "text/plain": [
       "          order_id  user_id  order_number  orders_day_of_week  \\\n",
       "1513        520620      120             1                   3   \n",
       "1514       3273029      120             3                   2   \n",
       "1515        520620      120             1                   3   \n",
       "1516       3273029      120             3                   2   \n",
       "1517        520620      120             1                   3   \n",
       "...            ...      ...           ...                 ...   \n",
       "32434181   1947537   166751             3                   4   \n",
       "32434208    484769    66343             1                   6   \n",
       "32434209   1561557    66343             2                   1   \n",
       "32434210    276317    66343             3                   6   \n",
       "32434211   2922475    66343             4                   1   \n",
       "\n",
       "          order_hour_of_day  days_since_prior_order  product_id  \\\n",
       "1513                     11                     NaN         196   \n",
       "1514                      8                    19.0         196   \n",
       "1515                     11                     NaN       46149   \n",
       "1516                      8                    19.0       46149   \n",
       "1517                     11                     NaN       26348   \n",
       "...                     ...                     ...         ...   \n",
       "32434181                  7                     0.0       49001   \n",
       "32434208                 11                     NaN       47210   \n",
       "32434209                 11                    30.0       47210   \n",
       "32434210                 15                    19.0       47210   \n",
       "32434211                 12                    30.0       47210   \n",
       "\n",
       "          add_to_cart_order  reordered  \\\n",
       "1513                      2          0   \n",
       "1514                      2          1   \n",
       "1515                      1          0   \n",
       "1516                      1          1   \n",
       "1517                      3          0   \n",
       "...                     ...        ...   \n",
       "32434181                  1          1   \n",
       "32434208                  1          0   \n",
       "32434209                  1          1   \n",
       "32434210                  1          1   \n",
       "32434211                  1          1   \n",
       "\n",
       "                                        product_name  ...  order_frequency  \\\n",
       "1513                                            Soda  ...             19.0   \n",
       "1514                                            Soda  ...             19.0   \n",
       "1515                               Zero Calorie Cola  ...             19.0   \n",
       "1516                               Zero Calorie Cola  ...             19.0   \n",
       "1517                        Mixed Fruit Fruit Snacks  ...             19.0   \n",
       "...                                              ...  ...              ...   \n",
       "32434181  Melatonin 2.5 Mg Sublingual Orange Tablets  ...             10.0   \n",
       "32434208                 Fresh Farmed Tilapia Fillet  ...             30.0   \n",
       "32434209                 Fresh Farmed Tilapia Fillet  ...             30.0   \n",
       "32434210                 Fresh Farmed Tilapia Fillet  ...             30.0   \n",
       "32434211                 Fresh Farmed Tilapia Fillet  ...             30.0   \n",
       "\n",
       "                 frequency_flag      state age #_dependants fam_status income  \\\n",
       "1513           Regular customer   Kentucky  54            2    married  99219   \n",
       "1514           Regular customer   Kentucky  54            2    married  99219   \n",
       "1515           Regular customer   Kentucky  54            2    married  99219   \n",
       "1516           Regular customer   Kentucky  54            2    married  99219   \n",
       "1517           Regular customer   Kentucky  54            2    married  99219   \n",
       "...                         ...        ...  ..          ...        ...    ...   \n",
       "32434181      Frequent customer     Oregon  38            1    married  41766   \n",
       "32434208  Non-frequent customer  Tennessee  22            3    married  46151   \n",
       "32434209  Non-frequent customer  Tennessee  22            3    married  46151   \n",
       "32434210  Non-frequent customer  Tennessee  22            3    married  46151   \n",
       "32434211  Non-frequent customer  Tennessee  22            3    married  46151   \n",
       "\n",
       "          exists region activity_flag  \n",
       "1513        both  South  Low Activity  \n",
       "1514        both  South  Low Activity  \n",
       "1515        both  South  Low Activity  \n",
       "1516        both  South  Low Activity  \n",
       "1517        both  South  Low Activity  \n",
       "...          ...    ...           ...  \n",
       "32434181    both   West  Low Activity  \n",
       "32434208    both  South  Low Activity  \n",
       "32434209    both  South  Low Activity  \n",
       "32434210    both  South  Low Activity  \n",
       "32434211    both  South  Low Activity  \n",
       "\n",
       "[1441548 rows x 30 columns]"
      ]
     },
     "execution_count": 17,
     "metadata": {},
     "output_type": "execute_result"
    }
   ],
   "source": [
    "df_Low_Activity"
   ]
  },
  {
   "cell_type": "code",
   "execution_count": 18,
   "id": "cd97bb1e",
   "metadata": {},
   "outputs": [],
   "source": [
    "#export Low Activity dataframe\n",
    "\n",
    "df_Low_Activity.to_pickle(os.path.join(path,'02 Data','Prepared Data','Low_Activity_dataframe.pkl'))"
   ]
  },
  {
   "cell_type": "code",
   "execution_count": 6,
   "id": "0c7637a4",
   "metadata": {},
   "outputs": [],
   "source": [
    "#create High Activity dataframe\n",
    "\n",
    "df_High_Activity = ords_prods_all[ords_prods_all['activity_flag'] == 'High Activity']"
   ]
  },
  {
   "cell_type": "code",
   "execution_count": 20,
   "id": "e0167bf6",
   "metadata": {},
   "outputs": [
    {
     "data": {
      "text/html": [
       "<div>\n",
       "<style scoped>\n",
       "    .dataframe tbody tr th:only-of-type {\n",
       "        vertical-align: middle;\n",
       "    }\n",
       "\n",
       "    .dataframe tbody tr th {\n",
       "        vertical-align: top;\n",
       "    }\n",
       "\n",
       "    .dataframe thead th {\n",
       "        text-align: right;\n",
       "    }\n",
       "</style>\n",
       "<table border=\"1\" class=\"dataframe\">\n",
       "  <thead>\n",
       "    <tr style=\"text-align: right;\">\n",
       "      <th></th>\n",
       "      <th>order_id</th>\n",
       "      <th>user_id</th>\n",
       "      <th>order_number</th>\n",
       "      <th>orders_day_of_week</th>\n",
       "      <th>order_hour_of_day</th>\n",
       "      <th>days_since_prior_order</th>\n",
       "      <th>product_id</th>\n",
       "      <th>add_to_cart_order</th>\n",
       "      <th>reordered</th>\n",
       "      <th>product_name</th>\n",
       "      <th>...</th>\n",
       "      <th>order_frequency</th>\n",
       "      <th>frequency_flag</th>\n",
       "      <th>state</th>\n",
       "      <th>age</th>\n",
       "      <th>#_dependants</th>\n",
       "      <th>fam_status</th>\n",
       "      <th>income</th>\n",
       "      <th>exists</th>\n",
       "      <th>region</th>\n",
       "      <th>activity_flag</th>\n",
       "    </tr>\n",
       "  </thead>\n",
       "  <tbody>\n",
       "    <tr>\n",
       "      <th>0</th>\n",
       "      <td>2539329</td>\n",
       "      <td>1</td>\n",
       "      <td>1</td>\n",
       "      <td>2</td>\n",
       "      <td>8</td>\n",
       "      <td>NaN</td>\n",
       "      <td>196</td>\n",
       "      <td>1</td>\n",
       "      <td>0</td>\n",
       "      <td>Soda</td>\n",
       "      <td>...</td>\n",
       "      <td>20.5</td>\n",
       "      <td>Non-frequent customer</td>\n",
       "      <td>Alabama</td>\n",
       "      <td>31</td>\n",
       "      <td>3</td>\n",
       "      <td>married</td>\n",
       "      <td>40423</td>\n",
       "      <td>both</td>\n",
       "      <td>South</td>\n",
       "      <td>High Activity</td>\n",
       "    </tr>\n",
       "    <tr>\n",
       "      <th>1</th>\n",
       "      <td>2398795</td>\n",
       "      <td>1</td>\n",
       "      <td>2</td>\n",
       "      <td>3</td>\n",
       "      <td>7</td>\n",
       "      <td>15.0</td>\n",
       "      <td>196</td>\n",
       "      <td>1</td>\n",
       "      <td>1</td>\n",
       "      <td>Soda</td>\n",
       "      <td>...</td>\n",
       "      <td>20.5</td>\n",
       "      <td>Non-frequent customer</td>\n",
       "      <td>Alabama</td>\n",
       "      <td>31</td>\n",
       "      <td>3</td>\n",
       "      <td>married</td>\n",
       "      <td>40423</td>\n",
       "      <td>both</td>\n",
       "      <td>South</td>\n",
       "      <td>High Activity</td>\n",
       "    </tr>\n",
       "    <tr>\n",
       "      <th>2</th>\n",
       "      <td>473747</td>\n",
       "      <td>1</td>\n",
       "      <td>3</td>\n",
       "      <td>3</td>\n",
       "      <td>12</td>\n",
       "      <td>21.0</td>\n",
       "      <td>196</td>\n",
       "      <td>1</td>\n",
       "      <td>1</td>\n",
       "      <td>Soda</td>\n",
       "      <td>...</td>\n",
       "      <td>20.5</td>\n",
       "      <td>Non-frequent customer</td>\n",
       "      <td>Alabama</td>\n",
       "      <td>31</td>\n",
       "      <td>3</td>\n",
       "      <td>married</td>\n",
       "      <td>40423</td>\n",
       "      <td>both</td>\n",
       "      <td>South</td>\n",
       "      <td>High Activity</td>\n",
       "    </tr>\n",
       "    <tr>\n",
       "      <th>3</th>\n",
       "      <td>2254736</td>\n",
       "      <td>1</td>\n",
       "      <td>4</td>\n",
       "      <td>4</td>\n",
       "      <td>7</td>\n",
       "      <td>29.0</td>\n",
       "      <td>196</td>\n",
       "      <td>1</td>\n",
       "      <td>1</td>\n",
       "      <td>Soda</td>\n",
       "      <td>...</td>\n",
       "      <td>20.5</td>\n",
       "      <td>Non-frequent customer</td>\n",
       "      <td>Alabama</td>\n",
       "      <td>31</td>\n",
       "      <td>3</td>\n",
       "      <td>married</td>\n",
       "      <td>40423</td>\n",
       "      <td>both</td>\n",
       "      <td>South</td>\n",
       "      <td>High Activity</td>\n",
       "    </tr>\n",
       "    <tr>\n",
       "      <th>4</th>\n",
       "      <td>431534</td>\n",
       "      <td>1</td>\n",
       "      <td>5</td>\n",
       "      <td>4</td>\n",
       "      <td>15</td>\n",
       "      <td>28.0</td>\n",
       "      <td>196</td>\n",
       "      <td>1</td>\n",
       "      <td>1</td>\n",
       "      <td>Soda</td>\n",
       "      <td>...</td>\n",
       "      <td>20.5</td>\n",
       "      <td>Non-frequent customer</td>\n",
       "      <td>Alabama</td>\n",
       "      <td>31</td>\n",
       "      <td>3</td>\n",
       "      <td>married</td>\n",
       "      <td>40423</td>\n",
       "      <td>both</td>\n",
       "      <td>South</td>\n",
       "      <td>High Activity</td>\n",
       "    </tr>\n",
       "    <tr>\n",
       "      <th>...</th>\n",
       "      <td>...</td>\n",
       "      <td>...</td>\n",
       "      <td>...</td>\n",
       "      <td>...</td>\n",
       "      <td>...</td>\n",
       "      <td>...</td>\n",
       "      <td>...</td>\n",
       "      <td>...</td>\n",
       "      <td>...</td>\n",
       "      <td>...</td>\n",
       "      <td>...</td>\n",
       "      <td>...</td>\n",
       "      <td>...</td>\n",
       "      <td>...</td>\n",
       "      <td>...</td>\n",
       "      <td>...</td>\n",
       "      <td>...</td>\n",
       "      <td>...</td>\n",
       "      <td>...</td>\n",
       "      <td>...</td>\n",
       "      <td>...</td>\n",
       "    </tr>\n",
       "    <tr>\n",
       "      <th>32434203</th>\n",
       "      <td>3308056</td>\n",
       "      <td>106143</td>\n",
       "      <td>22</td>\n",
       "      <td>4</td>\n",
       "      <td>20</td>\n",
       "      <td>10.0</td>\n",
       "      <td>19675</td>\n",
       "      <td>1</td>\n",
       "      <td>1</td>\n",
       "      <td>Organic Raspberry Black Tea</td>\n",
       "      <td>...</td>\n",
       "      <td>7.0</td>\n",
       "      <td>Frequent customer</td>\n",
       "      <td>Hawaii</td>\n",
       "      <td>25</td>\n",
       "      <td>0</td>\n",
       "      <td>single</td>\n",
       "      <td>53755</td>\n",
       "      <td>both</td>\n",
       "      <td>West</td>\n",
       "      <td>High Activity</td>\n",
       "    </tr>\n",
       "    <tr>\n",
       "      <th>32434204</th>\n",
       "      <td>2988973</td>\n",
       "      <td>106143</td>\n",
       "      <td>23</td>\n",
       "      <td>2</td>\n",
       "      <td>22</td>\n",
       "      <td>5.0</td>\n",
       "      <td>19675</td>\n",
       "      <td>1</td>\n",
       "      <td>1</td>\n",
       "      <td>Organic Raspberry Black Tea</td>\n",
       "      <td>...</td>\n",
       "      <td>7.0</td>\n",
       "      <td>Frequent customer</td>\n",
       "      <td>Hawaii</td>\n",
       "      <td>25</td>\n",
       "      <td>0</td>\n",
       "      <td>single</td>\n",
       "      <td>53755</td>\n",
       "      <td>both</td>\n",
       "      <td>West</td>\n",
       "      <td>High Activity</td>\n",
       "    </tr>\n",
       "    <tr>\n",
       "      <th>32434205</th>\n",
       "      <td>930</td>\n",
       "      <td>106143</td>\n",
       "      <td>24</td>\n",
       "      <td>6</td>\n",
       "      <td>12</td>\n",
       "      <td>4.0</td>\n",
       "      <td>19675</td>\n",
       "      <td>1</td>\n",
       "      <td>1</td>\n",
       "      <td>Organic Raspberry Black Tea</td>\n",
       "      <td>...</td>\n",
       "      <td>7.0</td>\n",
       "      <td>Frequent customer</td>\n",
       "      <td>Hawaii</td>\n",
       "      <td>25</td>\n",
       "      <td>0</td>\n",
       "      <td>single</td>\n",
       "      <td>53755</td>\n",
       "      <td>both</td>\n",
       "      <td>West</td>\n",
       "      <td>High Activity</td>\n",
       "    </tr>\n",
       "    <tr>\n",
       "      <th>32434206</th>\n",
       "      <td>467253</td>\n",
       "      <td>106143</td>\n",
       "      <td>25</td>\n",
       "      <td>6</td>\n",
       "      <td>16</td>\n",
       "      <td>7.0</td>\n",
       "      <td>19675</td>\n",
       "      <td>1</td>\n",
       "      <td>1</td>\n",
       "      <td>Organic Raspberry Black Tea</td>\n",
       "      <td>...</td>\n",
       "      <td>7.0</td>\n",
       "      <td>Frequent customer</td>\n",
       "      <td>Hawaii</td>\n",
       "      <td>25</td>\n",
       "      <td>0</td>\n",
       "      <td>single</td>\n",
       "      <td>53755</td>\n",
       "      <td>both</td>\n",
       "      <td>West</td>\n",
       "      <td>High Activity</td>\n",
       "    </tr>\n",
       "    <tr>\n",
       "      <th>32434207</th>\n",
       "      <td>156685</td>\n",
       "      <td>106143</td>\n",
       "      <td>26</td>\n",
       "      <td>4</td>\n",
       "      <td>23</td>\n",
       "      <td>5.0</td>\n",
       "      <td>19675</td>\n",
       "      <td>1</td>\n",
       "      <td>1</td>\n",
       "      <td>Organic Raspberry Black Tea</td>\n",
       "      <td>...</td>\n",
       "      <td>7.0</td>\n",
       "      <td>Frequent customer</td>\n",
       "      <td>Hawaii</td>\n",
       "      <td>25</td>\n",
       "      <td>0</td>\n",
       "      <td>single</td>\n",
       "      <td>53755</td>\n",
       "      <td>both</td>\n",
       "      <td>West</td>\n",
       "      <td>High Activity</td>\n",
       "    </tr>\n",
       "  </tbody>\n",
       "</table>\n",
       "<p>30992664 rows × 30 columns</p>\n",
       "</div>"
      ],
      "text/plain": [
       "          order_id  user_id  order_number  orders_day_of_week  \\\n",
       "0          2539329        1             1                   2   \n",
       "1          2398795        1             2                   3   \n",
       "2           473747        1             3                   3   \n",
       "3          2254736        1             4                   4   \n",
       "4           431534        1             5                   4   \n",
       "...            ...      ...           ...                 ...   \n",
       "32434203   3308056   106143            22                   4   \n",
       "32434204   2988973   106143            23                   2   \n",
       "32434205       930   106143            24                   6   \n",
       "32434206    467253   106143            25                   6   \n",
       "32434207    156685   106143            26                   4   \n",
       "\n",
       "          order_hour_of_day  days_since_prior_order  product_id  \\\n",
       "0                         8                     NaN         196   \n",
       "1                         7                    15.0         196   \n",
       "2                        12                    21.0         196   \n",
       "3                         7                    29.0         196   \n",
       "4                        15                    28.0         196   \n",
       "...                     ...                     ...         ...   \n",
       "32434203                 20                    10.0       19675   \n",
       "32434204                 22                     5.0       19675   \n",
       "32434205                 12                     4.0       19675   \n",
       "32434206                 16                     7.0       19675   \n",
       "32434207                 23                     5.0       19675   \n",
       "\n",
       "          add_to_cart_order  reordered                 product_name  ...  \\\n",
       "0                         1          0                         Soda  ...   \n",
       "1                         1          1                         Soda  ...   \n",
       "2                         1          1                         Soda  ...   \n",
       "3                         1          1                         Soda  ...   \n",
       "4                         1          1                         Soda  ...   \n",
       "...                     ...        ...                          ...  ...   \n",
       "32434203                  1          1  Organic Raspberry Black Tea  ...   \n",
       "32434204                  1          1  Organic Raspberry Black Tea  ...   \n",
       "32434205                  1          1  Organic Raspberry Black Tea  ...   \n",
       "32434206                  1          1  Organic Raspberry Black Tea  ...   \n",
       "32434207                  1          1  Organic Raspberry Black Tea  ...   \n",
       "\n",
       "          order_frequency         frequency_flag    state age #_dependants  \\\n",
       "0                    20.5  Non-frequent customer  Alabama  31            3   \n",
       "1                    20.5  Non-frequent customer  Alabama  31            3   \n",
       "2                    20.5  Non-frequent customer  Alabama  31            3   \n",
       "3                    20.5  Non-frequent customer  Alabama  31            3   \n",
       "4                    20.5  Non-frequent customer  Alabama  31            3   \n",
       "...                   ...                    ...      ...  ..          ...   \n",
       "32434203              7.0      Frequent customer   Hawaii  25            0   \n",
       "32434204              7.0      Frequent customer   Hawaii  25            0   \n",
       "32434205              7.0      Frequent customer   Hawaii  25            0   \n",
       "32434206              7.0      Frequent customer   Hawaii  25            0   \n",
       "32434207              7.0      Frequent customer   Hawaii  25            0   \n",
       "\n",
       "         fam_status income  exists region  activity_flag  \n",
       "0           married  40423    both  South  High Activity  \n",
       "1           married  40423    both  South  High Activity  \n",
       "2           married  40423    both  South  High Activity  \n",
       "3           married  40423    both  South  High Activity  \n",
       "4           married  40423    both  South  High Activity  \n",
       "...             ...    ...     ...    ...            ...  \n",
       "32434203     single  53755    both   West  High Activity  \n",
       "32434204     single  53755    both   West  High Activity  \n",
       "32434205     single  53755    both   West  High Activity  \n",
       "32434206     single  53755    both   West  High Activity  \n",
       "32434207     single  53755    both   West  High Activity  \n",
       "\n",
       "[30992664 rows x 30 columns]"
      ]
     },
     "execution_count": 20,
     "metadata": {},
     "output_type": "execute_result"
    }
   ],
   "source": [
    "df_High_Activity"
   ]
  },
  {
   "cell_type": "code",
   "execution_count": 21,
   "id": "e362c32a",
   "metadata": {},
   "outputs": [],
   "source": [
    "#export High Activity dataframe\n",
    "\n",
    "df_High_Activity.to_pickle(os.path.join(path,'02 Data','Prepared Data','High_Activity_dataframe.pkl'))"
   ]
  },
  {
   "cell_type": "markdown",
   "id": "4a42bf89",
   "metadata": {},
   "source": [
    "# Step 5."
   ]
  },
  {
   "cell_type": "code",
   "execution_count": 11,
   "id": "e0273c50",
   "metadata": {},
   "outputs": [
    {
     "name": "stderr",
     "output_type": "stream",
     "text": [
      "C:\\Users\\cmkep\\AppData\\Local\\Temp\\ipykernel_27100\\2942247742.py:3: SettingWithCopyWarning: \n",
      "A value is trying to be set on a copy of a slice from a DataFrame.\n",
      "Try using .loc[row_indexer,col_indexer] = value instead\n",
      "\n",
      "See the caveats in the documentation: https://pandas.pydata.org/pandas-docs/stable/user_guide/indexing.html#returning-a-view-versus-a-copy\n",
      "  df_High_Activity.loc[df_High_Activity['age'] <= 30, 'age_flag'] = 'Young Adult'\n"
     ]
    }
   ],
   "source": [
    "#Step 5: create age group flag\n",
    "\n",
    "df_High_Activity.loc[df_High_Activity['age'] <= 30, 'age_flag'] = 'Young Adult'\n",
    "df_High_Activity.loc[(df_High_Activity['age'] > 30) & (df_High_Activity['age'] < 65), 'age_flag'] = 'Middle Age'\n",
    "df_High_Activity.loc[df_High_Activity['age'] > 65, 'age_flag'] = 'Senior'"
   ]
  },
  {
   "cell_type": "code",
   "execution_count": 12,
   "id": "78ec4980",
   "metadata": {},
   "outputs": [
    {
     "data": {
      "text/plain": [
       "Middle Age     16479805\n",
       "Senior          7737619\n",
       "Young Adult     6310113\n",
       "Name: age_flag, dtype: int64"
      ]
     },
     "execution_count": 12,
     "metadata": {},
     "output_type": "execute_result"
    }
   ],
   "source": [
    "df_High_Activity['age_flag'].value_counts()"
   ]
  },
  {
   "cell_type": "code",
   "execution_count": 26,
   "id": "7c8c3113",
   "metadata": {},
   "outputs": [],
   "source": [
    "#Step 5: create income level flag\n",
    "\n",
    "df_High_Activity.loc[df_High_Activity['income'] <= 50000, 'income_flag'] = 'Low Income'\n",
    "df_High_Activity.loc[(df_High_Activity['income'] > 50000) & (df_High_Activity['income'] <= 150000), 'income_flag'] = 'Middle Income'\n",
    "df_High_Activity.loc[df_High_Activity['income'] > 150000, 'income_flag'] = 'High income'"
   ]
  },
  {
   "cell_type": "code",
   "execution_count": 27,
   "id": "7bda2478",
   "metadata": {},
   "outputs": [
    {
     "data": {
      "text/plain": [
       "Middle Income    23728607\n",
       "High income       3897908\n",
       "Low Income        3366149\n",
       "Name: income_flag, dtype: int64"
      ]
     },
     "execution_count": 27,
     "metadata": {},
     "output_type": "execute_result"
    }
   ],
   "source": [
    "df_High_Activity['income_flag'].value_counts()"
   ]
  },
  {
   "cell_type": "code",
   "execution_count": 178,
   "id": "7e848888",
   "metadata": {},
   "outputs": [],
   "source": [
    "#Step 5: create dependants flag\n",
    "\n",
    "df_High_Activity.loc[df_High_Activity['#_dependants'] > 0, 'dependants_flag'] = 'Dependants'\n",
    "df_High_Activity.loc[df_High_Activity['#_dependants'] == 0, 'dependants_flag'] = 'No Dependants'"
   ]
  },
  {
   "cell_type": "code",
   "execution_count": 31,
   "id": "77e5b269",
   "metadata": {},
   "outputs": [
    {
     "data": {
      "text/plain": [
       "Family    23245632\n",
       "Single     7747032\n",
       "Name: dependants_flag, dtype: int64"
      ]
     },
     "execution_count": 31,
     "metadata": {},
     "output_type": "execute_result"
    }
   ],
   "source": [
    "df_High_Activity['dependants_flag'].value_counts()"
   ]
  },
  {
   "cell_type": "code",
   "execution_count": 55,
   "id": "aca42172",
   "metadata": {},
   "outputs": [],
   "source": [
    "#Step 5: Create alcohol flag (department_id for alcohol is 5) \n",
    "\n",
    "result = []\n",
    "\n",
    "for value in df_High_Activity[\"department_id\"]:\n",
    "  if value == 5:\n",
    "    result.append(\"purchased\")\n",
    "  else:\n",
    "    result.append(\"not purchased\")"
   ]
  },
  {
   "cell_type": "code",
   "execution_count": 57,
   "id": "ef3abf19",
   "metadata": {},
   "outputs": [
    {
     "name": "stderr",
     "output_type": "stream",
     "text": [
      "C:\\Users\\cmkep\\AppData\\Local\\Temp\\ipykernel_428\\3069928192.py:1: SettingWithCopyWarning: \n",
      "A value is trying to be set on a copy of a slice from a DataFrame.\n",
      "Try using .loc[row_indexer,col_indexer] = value instead\n",
      "\n",
      "See the caveats in the documentation: https://pandas.pydata.org/pandas-docs/stable/user_guide/indexing.html#returning-a-view-versus-a-copy\n",
      "  df_High_Activity['alcohol_flag'] = result\n"
     ]
    }
   ],
   "source": [
    "df_High_Activity['alcohol_flag'] = result"
   ]
  },
  {
   "cell_type": "code",
   "execution_count": 58,
   "id": "7cc349d6",
   "metadata": {},
   "outputs": [
    {
     "data": {
      "text/plain": [
       "not purchased    30847990\n",
       "purchased          144674\n",
       "Name: alcohol_flag, dtype: int64"
      ]
     },
     "execution_count": 58,
     "metadata": {},
     "output_type": "execute_result"
    }
   ],
   "source": [
    "df_High_Activity['alcohol_flag'].value_counts()"
   ]
  },
  {
   "cell_type": "code",
   "execution_count": 90,
   "id": "a98da138",
   "metadata": {},
   "outputs": [
    {
     "data": {
      "text/html": [
       "<div>\n",
       "<style scoped>\n",
       "    .dataframe tbody tr th:only-of-type {\n",
       "        vertical-align: middle;\n",
       "    }\n",
       "\n",
       "    .dataframe tbody tr th {\n",
       "        vertical-align: top;\n",
       "    }\n",
       "\n",
       "    .dataframe thead th {\n",
       "        text-align: right;\n",
       "    }\n",
       "</style>\n",
       "<table border=\"1\" class=\"dataframe\">\n",
       "  <thead>\n",
       "    <tr style=\"text-align: right;\">\n",
       "      <th></th>\n",
       "      <th>order_id</th>\n",
       "      <th>user_id</th>\n",
       "      <th>order_number</th>\n",
       "      <th>orders_day_of_week</th>\n",
       "      <th>order_hour_of_day</th>\n",
       "      <th>days_since_prior_order</th>\n",
       "      <th>product_id</th>\n",
       "      <th>add_to_cart_order</th>\n",
       "      <th>reordered</th>\n",
       "      <th>product_name</th>\n",
       "      <th>...</th>\n",
       "      <th>income</th>\n",
       "      <th>exists</th>\n",
       "      <th>region</th>\n",
       "      <th>activity_flag</th>\n",
       "      <th>age_flag</th>\n",
       "      <th>income_flag</th>\n",
       "      <th>dependants_flag</th>\n",
       "      <th>alcohol_flag</th>\n",
       "      <th>bulk_flag</th>\n",
       "      <th>alcohol_status</th>\n",
       "    </tr>\n",
       "  </thead>\n",
       "  <tbody>\n",
       "    <tr>\n",
       "      <th>0</th>\n",
       "      <td>2539329</td>\n",
       "      <td>1</td>\n",
       "      <td>1</td>\n",
       "      <td>2</td>\n",
       "      <td>8</td>\n",
       "      <td>NaN</td>\n",
       "      <td>196</td>\n",
       "      <td>1</td>\n",
       "      <td>0</td>\n",
       "      <td>Soda</td>\n",
       "      <td>...</td>\n",
       "      <td>40423</td>\n",
       "      <td>both</td>\n",
       "      <td>South</td>\n",
       "      <td>High Activity</td>\n",
       "      <td>Middle Age</td>\n",
       "      <td>Low Income</td>\n",
       "      <td>Family</td>\n",
       "      <td>not purchased</td>\n",
       "      <td>not purchased</td>\n",
       "      <td>0</td>\n",
       "    </tr>\n",
       "    <tr>\n",
       "      <th>1</th>\n",
       "      <td>2398795</td>\n",
       "      <td>1</td>\n",
       "      <td>2</td>\n",
       "      <td>3</td>\n",
       "      <td>7</td>\n",
       "      <td>15.0</td>\n",
       "      <td>196</td>\n",
       "      <td>1</td>\n",
       "      <td>1</td>\n",
       "      <td>Soda</td>\n",
       "      <td>...</td>\n",
       "      <td>40423</td>\n",
       "      <td>both</td>\n",
       "      <td>South</td>\n",
       "      <td>High Activity</td>\n",
       "      <td>Middle Age</td>\n",
       "      <td>Low Income</td>\n",
       "      <td>Family</td>\n",
       "      <td>not purchased</td>\n",
       "      <td>not purchased</td>\n",
       "      <td>0</td>\n",
       "    </tr>\n",
       "    <tr>\n",
       "      <th>2</th>\n",
       "      <td>473747</td>\n",
       "      <td>1</td>\n",
       "      <td>3</td>\n",
       "      <td>3</td>\n",
       "      <td>12</td>\n",
       "      <td>21.0</td>\n",
       "      <td>196</td>\n",
       "      <td>1</td>\n",
       "      <td>1</td>\n",
       "      <td>Soda</td>\n",
       "      <td>...</td>\n",
       "      <td>40423</td>\n",
       "      <td>both</td>\n",
       "      <td>South</td>\n",
       "      <td>High Activity</td>\n",
       "      <td>Middle Age</td>\n",
       "      <td>Low Income</td>\n",
       "      <td>Family</td>\n",
       "      <td>not purchased</td>\n",
       "      <td>not purchased</td>\n",
       "      <td>0</td>\n",
       "    </tr>\n",
       "    <tr>\n",
       "      <th>3</th>\n",
       "      <td>2254736</td>\n",
       "      <td>1</td>\n",
       "      <td>4</td>\n",
       "      <td>4</td>\n",
       "      <td>7</td>\n",
       "      <td>29.0</td>\n",
       "      <td>196</td>\n",
       "      <td>1</td>\n",
       "      <td>1</td>\n",
       "      <td>Soda</td>\n",
       "      <td>...</td>\n",
       "      <td>40423</td>\n",
       "      <td>both</td>\n",
       "      <td>South</td>\n",
       "      <td>High Activity</td>\n",
       "      <td>Middle Age</td>\n",
       "      <td>Low Income</td>\n",
       "      <td>Family</td>\n",
       "      <td>not purchased</td>\n",
       "      <td>not purchased</td>\n",
       "      <td>0</td>\n",
       "    </tr>\n",
       "    <tr>\n",
       "      <th>4</th>\n",
       "      <td>431534</td>\n",
       "      <td>1</td>\n",
       "      <td>5</td>\n",
       "      <td>4</td>\n",
       "      <td>15</td>\n",
       "      <td>28.0</td>\n",
       "      <td>196</td>\n",
       "      <td>1</td>\n",
       "      <td>1</td>\n",
       "      <td>Soda</td>\n",
       "      <td>...</td>\n",
       "      <td>40423</td>\n",
       "      <td>both</td>\n",
       "      <td>South</td>\n",
       "      <td>High Activity</td>\n",
       "      <td>Middle Age</td>\n",
       "      <td>Low Income</td>\n",
       "      <td>Family</td>\n",
       "      <td>not purchased</td>\n",
       "      <td>not purchased</td>\n",
       "      <td>0</td>\n",
       "    </tr>\n",
       "  </tbody>\n",
       "</table>\n",
       "<p>5 rows × 36 columns</p>\n",
       "</div>"
      ],
      "text/plain": [
       "   order_id  user_id  order_number  orders_day_of_week  order_hour_of_day  \\\n",
       "0   2539329        1             1                   2                  8   \n",
       "1   2398795        1             2                   3                  7   \n",
       "2    473747        1             3                   3                 12   \n",
       "3   2254736        1             4                   4                  7   \n",
       "4    431534        1             5                   4                 15   \n",
       "\n",
       "   days_since_prior_order  product_id  add_to_cart_order  reordered  \\\n",
       "0                     NaN         196                  1          0   \n",
       "1                    15.0         196                  1          1   \n",
       "2                    21.0         196                  1          1   \n",
       "3                    29.0         196                  1          1   \n",
       "4                    28.0         196                  1          1   \n",
       "\n",
       "  product_name  ...  income  exists  region  activity_flag    age_flag  \\\n",
       "0         Soda  ...   40423    both   South  High Activity  Middle Age   \n",
       "1         Soda  ...   40423    both   South  High Activity  Middle Age   \n",
       "2         Soda  ...   40423    both   South  High Activity  Middle Age   \n",
       "3         Soda  ...   40423    both   South  High Activity  Middle Age   \n",
       "4         Soda  ...   40423    both   South  High Activity  Middle Age   \n",
       "\n",
       "  income_flag dependants_flag   alcohol_flag      bulk_flag alcohol_status  \n",
       "0  Low Income          Family  not purchased  not purchased              0  \n",
       "1  Low Income          Family  not purchased  not purchased              0  \n",
       "2  Low Income          Family  not purchased  not purchased              0  \n",
       "3  Low Income          Family  not purchased  not purchased              0  \n",
       "4  Low Income          Family  not purchased  not purchased              0  \n",
       "\n",
       "[5 rows x 36 columns]"
      ]
     },
     "execution_count": 90,
     "metadata": {},
     "output_type": "execute_result"
    }
   ],
   "source": [
    "df_High_Activity.head()"
   ]
  },
  {
   "cell_type": "code",
   "execution_count": 91,
   "id": "d4ae5b6f",
   "metadata": {},
   "outputs": [
    {
     "data": {
      "text/html": [
       "<div>\n",
       "<style scoped>\n",
       "    .dataframe tbody tr th:only-of-type {\n",
       "        vertical-align: middle;\n",
       "    }\n",
       "\n",
       "    .dataframe tbody tr th {\n",
       "        vertical-align: top;\n",
       "    }\n",
       "\n",
       "    .dataframe thead th {\n",
       "        text-align: right;\n",
       "    }\n",
       "</style>\n",
       "<table border=\"1\" class=\"dataframe\">\n",
       "  <thead>\n",
       "    <tr style=\"text-align: right;\">\n",
       "      <th></th>\n",
       "      <th>order_id</th>\n",
       "      <th>user_id</th>\n",
       "      <th>order_number</th>\n",
       "      <th>orders_day_of_week</th>\n",
       "      <th>order_hour_of_day</th>\n",
       "      <th>days_since_prior_order</th>\n",
       "      <th>product_id</th>\n",
       "      <th>add_to_cart_order</th>\n",
       "      <th>reordered</th>\n",
       "      <th>product_name</th>\n",
       "      <th>...</th>\n",
       "      <th>fam_status</th>\n",
       "      <th>income</th>\n",
       "      <th>exists</th>\n",
       "      <th>region</th>\n",
       "      <th>activity_flag</th>\n",
       "      <th>age_flag</th>\n",
       "      <th>income_flag</th>\n",
       "      <th>dependants_flag</th>\n",
       "      <th>alcohol_flag</th>\n",
       "      <th>bulk_flag</th>\n",
       "    </tr>\n",
       "  </thead>\n",
       "  <tbody>\n",
       "    <tr>\n",
       "      <th>0</th>\n",
       "      <td>2539329</td>\n",
       "      <td>1</td>\n",
       "      <td>1</td>\n",
       "      <td>2</td>\n",
       "      <td>8</td>\n",
       "      <td>NaN</td>\n",
       "      <td>196</td>\n",
       "      <td>1</td>\n",
       "      <td>0</td>\n",
       "      <td>Soda</td>\n",
       "      <td>...</td>\n",
       "      <td>married</td>\n",
       "      <td>40423</td>\n",
       "      <td>both</td>\n",
       "      <td>South</td>\n",
       "      <td>High Activity</td>\n",
       "      <td>Middle Age</td>\n",
       "      <td>Low Income</td>\n",
       "      <td>Family</td>\n",
       "      <td>not purchased</td>\n",
       "      <td>not purchased</td>\n",
       "    </tr>\n",
       "    <tr>\n",
       "      <th>1</th>\n",
       "      <td>2398795</td>\n",
       "      <td>1</td>\n",
       "      <td>2</td>\n",
       "      <td>3</td>\n",
       "      <td>7</td>\n",
       "      <td>15.0</td>\n",
       "      <td>196</td>\n",
       "      <td>1</td>\n",
       "      <td>1</td>\n",
       "      <td>Soda</td>\n",
       "      <td>...</td>\n",
       "      <td>married</td>\n",
       "      <td>40423</td>\n",
       "      <td>both</td>\n",
       "      <td>South</td>\n",
       "      <td>High Activity</td>\n",
       "      <td>Middle Age</td>\n",
       "      <td>Low Income</td>\n",
       "      <td>Family</td>\n",
       "      <td>not purchased</td>\n",
       "      <td>not purchased</td>\n",
       "    </tr>\n",
       "    <tr>\n",
       "      <th>2</th>\n",
       "      <td>473747</td>\n",
       "      <td>1</td>\n",
       "      <td>3</td>\n",
       "      <td>3</td>\n",
       "      <td>12</td>\n",
       "      <td>21.0</td>\n",
       "      <td>196</td>\n",
       "      <td>1</td>\n",
       "      <td>1</td>\n",
       "      <td>Soda</td>\n",
       "      <td>...</td>\n",
       "      <td>married</td>\n",
       "      <td>40423</td>\n",
       "      <td>both</td>\n",
       "      <td>South</td>\n",
       "      <td>High Activity</td>\n",
       "      <td>Middle Age</td>\n",
       "      <td>Low Income</td>\n",
       "      <td>Family</td>\n",
       "      <td>not purchased</td>\n",
       "      <td>not purchased</td>\n",
       "    </tr>\n",
       "    <tr>\n",
       "      <th>3</th>\n",
       "      <td>2254736</td>\n",
       "      <td>1</td>\n",
       "      <td>4</td>\n",
       "      <td>4</td>\n",
       "      <td>7</td>\n",
       "      <td>29.0</td>\n",
       "      <td>196</td>\n",
       "      <td>1</td>\n",
       "      <td>1</td>\n",
       "      <td>Soda</td>\n",
       "      <td>...</td>\n",
       "      <td>married</td>\n",
       "      <td>40423</td>\n",
       "      <td>both</td>\n",
       "      <td>South</td>\n",
       "      <td>High Activity</td>\n",
       "      <td>Middle Age</td>\n",
       "      <td>Low Income</td>\n",
       "      <td>Family</td>\n",
       "      <td>not purchased</td>\n",
       "      <td>not purchased</td>\n",
       "    </tr>\n",
       "    <tr>\n",
       "      <th>4</th>\n",
       "      <td>431534</td>\n",
       "      <td>1</td>\n",
       "      <td>5</td>\n",
       "      <td>4</td>\n",
       "      <td>15</td>\n",
       "      <td>28.0</td>\n",
       "      <td>196</td>\n",
       "      <td>1</td>\n",
       "      <td>1</td>\n",
       "      <td>Soda</td>\n",
       "      <td>...</td>\n",
       "      <td>married</td>\n",
       "      <td>40423</td>\n",
       "      <td>both</td>\n",
       "      <td>South</td>\n",
       "      <td>High Activity</td>\n",
       "      <td>Middle Age</td>\n",
       "      <td>Low Income</td>\n",
       "      <td>Family</td>\n",
       "      <td>not purchased</td>\n",
       "      <td>not purchased</td>\n",
       "    </tr>\n",
       "    <tr>\n",
       "      <th>...</th>\n",
       "      <td>...</td>\n",
       "      <td>...</td>\n",
       "      <td>...</td>\n",
       "      <td>...</td>\n",
       "      <td>...</td>\n",
       "      <td>...</td>\n",
       "      <td>...</td>\n",
       "      <td>...</td>\n",
       "      <td>...</td>\n",
       "      <td>...</td>\n",
       "      <td>...</td>\n",
       "      <td>...</td>\n",
       "      <td>...</td>\n",
       "      <td>...</td>\n",
       "      <td>...</td>\n",
       "      <td>...</td>\n",
       "      <td>...</td>\n",
       "      <td>...</td>\n",
       "      <td>...</td>\n",
       "      <td>...</td>\n",
       "      <td>...</td>\n",
       "    </tr>\n",
       "    <tr>\n",
       "      <th>32434203</th>\n",
       "      <td>3308056</td>\n",
       "      <td>106143</td>\n",
       "      <td>22</td>\n",
       "      <td>4</td>\n",
       "      <td>20</td>\n",
       "      <td>10.0</td>\n",
       "      <td>19675</td>\n",
       "      <td>1</td>\n",
       "      <td>1</td>\n",
       "      <td>Organic Raspberry Black Tea</td>\n",
       "      <td>...</td>\n",
       "      <td>single</td>\n",
       "      <td>53755</td>\n",
       "      <td>both</td>\n",
       "      <td>West</td>\n",
       "      <td>High Activity</td>\n",
       "      <td>Young Adult</td>\n",
       "      <td>Middle Income</td>\n",
       "      <td>Single</td>\n",
       "      <td>not purchased</td>\n",
       "      <td>not purchased</td>\n",
       "    </tr>\n",
       "    <tr>\n",
       "      <th>32434204</th>\n",
       "      <td>2988973</td>\n",
       "      <td>106143</td>\n",
       "      <td>23</td>\n",
       "      <td>2</td>\n",
       "      <td>22</td>\n",
       "      <td>5.0</td>\n",
       "      <td>19675</td>\n",
       "      <td>1</td>\n",
       "      <td>1</td>\n",
       "      <td>Organic Raspberry Black Tea</td>\n",
       "      <td>...</td>\n",
       "      <td>single</td>\n",
       "      <td>53755</td>\n",
       "      <td>both</td>\n",
       "      <td>West</td>\n",
       "      <td>High Activity</td>\n",
       "      <td>Young Adult</td>\n",
       "      <td>Middle Income</td>\n",
       "      <td>Single</td>\n",
       "      <td>not purchased</td>\n",
       "      <td>not purchased</td>\n",
       "    </tr>\n",
       "    <tr>\n",
       "      <th>32434205</th>\n",
       "      <td>930</td>\n",
       "      <td>106143</td>\n",
       "      <td>24</td>\n",
       "      <td>6</td>\n",
       "      <td>12</td>\n",
       "      <td>4.0</td>\n",
       "      <td>19675</td>\n",
       "      <td>1</td>\n",
       "      <td>1</td>\n",
       "      <td>Organic Raspberry Black Tea</td>\n",
       "      <td>...</td>\n",
       "      <td>single</td>\n",
       "      <td>53755</td>\n",
       "      <td>both</td>\n",
       "      <td>West</td>\n",
       "      <td>High Activity</td>\n",
       "      <td>Young Adult</td>\n",
       "      <td>Middle Income</td>\n",
       "      <td>Single</td>\n",
       "      <td>not purchased</td>\n",
       "      <td>not purchased</td>\n",
       "    </tr>\n",
       "    <tr>\n",
       "      <th>32434206</th>\n",
       "      <td>467253</td>\n",
       "      <td>106143</td>\n",
       "      <td>25</td>\n",
       "      <td>6</td>\n",
       "      <td>16</td>\n",
       "      <td>7.0</td>\n",
       "      <td>19675</td>\n",
       "      <td>1</td>\n",
       "      <td>1</td>\n",
       "      <td>Organic Raspberry Black Tea</td>\n",
       "      <td>...</td>\n",
       "      <td>single</td>\n",
       "      <td>53755</td>\n",
       "      <td>both</td>\n",
       "      <td>West</td>\n",
       "      <td>High Activity</td>\n",
       "      <td>Young Adult</td>\n",
       "      <td>Middle Income</td>\n",
       "      <td>Single</td>\n",
       "      <td>not purchased</td>\n",
       "      <td>not purchased</td>\n",
       "    </tr>\n",
       "    <tr>\n",
       "      <th>32434207</th>\n",
       "      <td>156685</td>\n",
       "      <td>106143</td>\n",
       "      <td>26</td>\n",
       "      <td>4</td>\n",
       "      <td>23</td>\n",
       "      <td>5.0</td>\n",
       "      <td>19675</td>\n",
       "      <td>1</td>\n",
       "      <td>1</td>\n",
       "      <td>Organic Raspberry Black Tea</td>\n",
       "      <td>...</td>\n",
       "      <td>single</td>\n",
       "      <td>53755</td>\n",
       "      <td>both</td>\n",
       "      <td>West</td>\n",
       "      <td>High Activity</td>\n",
       "      <td>Young Adult</td>\n",
       "      <td>Middle Income</td>\n",
       "      <td>Single</td>\n",
       "      <td>not purchased</td>\n",
       "      <td>not purchased</td>\n",
       "    </tr>\n",
       "  </tbody>\n",
       "</table>\n",
       "<p>30992664 rows × 35 columns</p>\n",
       "</div>"
      ],
      "text/plain": [
       "          order_id  user_id  order_number  orders_day_of_week  \\\n",
       "0          2539329        1             1                   2   \n",
       "1          2398795        1             2                   3   \n",
       "2           473747        1             3                   3   \n",
       "3          2254736        1             4                   4   \n",
       "4           431534        1             5                   4   \n",
       "...            ...      ...           ...                 ...   \n",
       "32434203   3308056   106143            22                   4   \n",
       "32434204   2988973   106143            23                   2   \n",
       "32434205       930   106143            24                   6   \n",
       "32434206    467253   106143            25                   6   \n",
       "32434207    156685   106143            26                   4   \n",
       "\n",
       "          order_hour_of_day  days_since_prior_order  product_id  \\\n",
       "0                         8                     NaN         196   \n",
       "1                         7                    15.0         196   \n",
       "2                        12                    21.0         196   \n",
       "3                         7                    29.0         196   \n",
       "4                        15                    28.0         196   \n",
       "...                     ...                     ...         ...   \n",
       "32434203                 20                    10.0       19675   \n",
       "32434204                 22                     5.0       19675   \n",
       "32434205                 12                     4.0       19675   \n",
       "32434206                 16                     7.0       19675   \n",
       "32434207                 23                     5.0       19675   \n",
       "\n",
       "          add_to_cart_order  reordered                 product_name  ...  \\\n",
       "0                         1          0                         Soda  ...   \n",
       "1                         1          1                         Soda  ...   \n",
       "2                         1          1                         Soda  ...   \n",
       "3                         1          1                         Soda  ...   \n",
       "4                         1          1                         Soda  ...   \n",
       "...                     ...        ...                          ...  ...   \n",
       "32434203                  1          1  Organic Raspberry Black Tea  ...   \n",
       "32434204                  1          1  Organic Raspberry Black Tea  ...   \n",
       "32434205                  1          1  Organic Raspberry Black Tea  ...   \n",
       "32434206                  1          1  Organic Raspberry Black Tea  ...   \n",
       "32434207                  1          1  Organic Raspberry Black Tea  ...   \n",
       "\n",
       "          fam_status  income  exists region  activity_flag     age_flag  \\\n",
       "0            married   40423    both  South  High Activity   Middle Age   \n",
       "1            married   40423    both  South  High Activity   Middle Age   \n",
       "2            married   40423    both  South  High Activity   Middle Age   \n",
       "3            married   40423    both  South  High Activity   Middle Age   \n",
       "4            married   40423    both  South  High Activity   Middle Age   \n",
       "...              ...     ...     ...    ...            ...          ...   \n",
       "32434203      single   53755    both   West  High Activity  Young Adult   \n",
       "32434204      single   53755    both   West  High Activity  Young Adult   \n",
       "32434205      single   53755    both   West  High Activity  Young Adult   \n",
       "32434206      single   53755    both   West  High Activity  Young Adult   \n",
       "32434207      single   53755    both   West  High Activity  Young Adult   \n",
       "\n",
       "            income_flag  dependants_flag   alcohol_flag      bulk_flag  \n",
       "0            Low Income           Family  not purchased  not purchased  \n",
       "1            Low Income           Family  not purchased  not purchased  \n",
       "2            Low Income           Family  not purchased  not purchased  \n",
       "3            Low Income           Family  not purchased  not purchased  \n",
       "4            Low Income           Family  not purchased  not purchased  \n",
       "...                 ...              ...            ...            ...  \n",
       "32434203  Middle Income           Single  not purchased  not purchased  \n",
       "32434204  Middle Income           Single  not purchased  not purchased  \n",
       "32434205  Middle Income           Single  not purchased  not purchased  \n",
       "32434206  Middle Income           Single  not purchased  not purchased  \n",
       "32434207  Middle Income           Single  not purchased  not purchased  \n",
       "\n",
       "[30992664 rows x 35 columns]"
      ]
     },
     "execution_count": 91,
     "metadata": {},
     "output_type": "execute_result"
    }
   ],
   "source": [
    "df_High_Activity.drop(columns = ['alcohol_status'])"
   ]
  },
  {
   "cell_type": "code",
   "execution_count": 7,
   "id": "062deb90",
   "metadata": {},
   "outputs": [],
   "source": [
    "#Step 5: create bulk purchase flag (department ID for bulk is 10)\n",
    "\n",
    "result = []\n",
    "\n",
    "for value in df_High_Activity[\"department_id\"]:\n",
    "  if value == 10:\n",
    "    result.append(\"purchased\")\n",
    "  else:\n",
    "    result.append(\"not purchased\")\n"
   ]
  },
  {
   "cell_type": "code",
   "execution_count": 8,
   "id": "dfa49902",
   "metadata": {},
   "outputs": [
    {
     "name": "stderr",
     "output_type": "stream",
     "text": [
      "C:\\Users\\cmkep\\AppData\\Local\\Temp\\ipykernel_27100\\1471878341.py:1: SettingWithCopyWarning: \n",
      "A value is trying to be set on a copy of a slice from a DataFrame.\n",
      "Try using .loc[row_indexer,col_indexer] = value instead\n",
      "\n",
      "See the caveats in the documentation: https://pandas.pydata.org/pandas-docs/stable/user_guide/indexing.html#returning-a-view-versus-a-copy\n",
      "  df_High_Activity['bulk_flag'] = result\n"
     ]
    }
   ],
   "source": [
    "df_High_Activity['bulk_flag'] = result"
   ]
  },
  {
   "cell_type": "code",
   "execution_count": 9,
   "id": "4da1abbd",
   "metadata": {},
   "outputs": [
    {
     "data": {
      "text/plain": [
       "not purchased    30959213\n",
       "purchased           33451\n",
       "Name: bulk_flag, dtype: int64"
      ]
     },
     "execution_count": 9,
     "metadata": {},
     "output_type": "execute_result"
    }
   ],
   "source": [
    "df_High_Activity['bulk_flag'].value_counts()"
   ]
  },
  {
   "cell_type": "markdown",
   "id": "6255aea1",
   "metadata": {},
   "source": [
    "# Step 6."
   ]
  },
  {
   "cell_type": "code",
   "execution_count": 71,
   "id": "baf2b052",
   "metadata": {},
   "outputs": [
    {
     "data": {
      "image/png": "[encoded data removed]",
      "text/plain": [
       "<Figure size 640x480 with 1 Axes>"
      ]
     },
     "metadata": {},
     "output_type": "display_data"
    }
   ],
   "source": [
    "#Step 6: Create age group visualization\n",
    "\n",
    "age_flag_bar = df_High_Activity['age_flag'].value_counts().plot.bar(color = ['red', 'blue', 'green'])"
   ]
  },
  {
   "cell_type": "code",
   "execution_count": 72,
   "id": "7e855d64",
   "metadata": {},
   "outputs": [],
   "source": [
    "#export age visual\n",
    "\n",
    "age_flag_bar.figure.savefig(os.path.join(path, '04 Analysis','Visualizations', 'age_flag_bar.png'))"
   ]
  },
  {
   "cell_type": "code",
   "execution_count": 75,
   "id": "6f0feb39",
   "metadata": {},
   "outputs": [
    {
     "data": {
      "image/png": "[encoded data removed]",
      "text/plain": [
       "<Figure size 640x480 with 1 Axes>"
      ]
     },
     "metadata": {},
     "output_type": "display_data"
    }
   ],
   "source": [
    "#Step 6: income visualization\n",
    "\n",
    "income_flag_bar = df_High_Activity['income_flag'].value_counts().plot.bar(color = ['green', 'lime', 'yellow'])"
   ]
  },
  {
   "cell_type": "code",
   "execution_count": 76,
   "id": "def8cdf5",
   "metadata": {},
   "outputs": [],
   "source": [
    "#export income visual\n",
    "\n",
    "income_flag_bar.figure.savefig(os.path.join(path, '04 Analysis','Visualizations', 'income_flag_bar.png'))"
   ]
  },
  {
   "cell_type": "code",
   "execution_count": 78,
   "id": "fb150d74",
   "metadata": {},
   "outputs": [
    {
     "data": {
      "image/png": "[encoded data removed]",
      "text/plain": [
       "<Figure size 640x480 with 1 Axes>"
      ]
     },
     "metadata": {},
     "output_type": "display_data"
    }
   ],
   "source": [
    "#Step 6: create dependants flag visual\n",
    "\n",
    "dependants_flag_pie = df_High_Activity['dependants_flag'].value_counts().plot.pie(label='', labels=['dependants', 'no dependants'],autopct=('%1.f%%'), colors=['blue','orange'], textprops={'fontsize': 12})"
   ]
  },
  {
   "cell_type": "code",
   "execution_count": 79,
   "id": "97d41b35",
   "metadata": {},
   "outputs": [],
   "source": [
    "#export dependants visual\n",
    "\n",
    "dependants_flag_pie.figure.savefig(os.path.join(path, '04 Analysis','Visualizations', 'dependants_flag_pie.png'))"
   ]
  },
  {
   "cell_type": "code",
   "execution_count": 87,
   "id": "5bcd70d3",
   "metadata": {},
   "outputs": [
    {
     "data": {
      "image/png": "[encoded data removed]",
      "text/plain": [
       "<Figure size 640x480 with 1 Axes>"
      ]
     },
     "metadata": {},
     "output_type": "display_data"
    }
   ],
   "source": [
    "#Step 6: create alcohol flag visual\n",
    "\n",
    "alcohol_flag_pie = df_High_Activity['alcohol_flag'].value_counts().plot.pie(label='', labels=['no alcohol', 'alcohol'],autopct=('%1.f%%'), colors=['blue','lime'], textprops={'fontsize': 12})"
   ]
  },
  {
   "cell_type": "code",
   "execution_count": 88,
   "id": "ff0cb5da",
   "metadata": {},
   "outputs": [],
   "source": [
    "#export alcohol flag visual\n",
    "\n",
    "alcohol_flag_pie.figure.savefig(os.path.join(path, '04 Analysis','Visualizations', 'alcohol_flag_pie.png'))"
   ]
  },
  {
   "cell_type": "code",
   "execution_count": 189,
   "id": "1443f3fa",
   "metadata": {},
   "outputs": [
    {
     "data": {
      "image/png": "[encoded data removed]",
      "text/plain": [
       "<Figure size 640x480 with 1 Axes>"
      ]
     },
     "metadata": {},
     "output_type": "display_data"
    }
   ],
   "source": [
    "#Step 6: create bulk flag visual\n",
    "\n",
    "bulk_flag_pie = df_High_Activity['bulk_flag'].value_counts().plot.pie(label='', labels=['no bulk', 'bulk'],autopct=('%1.f%%'), colors=['red','mistyrose'], textprops={'fontsize': 12})"
   ]
  },
  {
   "cell_type": "code",
   "execution_count": 89,
   "id": "57548968",
   "metadata": {},
   "outputs": [],
   "source": [
    "#export bulk flag visual\n",
    "\n",
    "bulk_flag_pie.figure.savefig(os.path.join(path, '04 Analysis','Visualizations', 'bulk_flag_pie.png'))"
   ]
  },
  {
   "cell_type": "markdown",
   "id": "323b6858",
   "metadata": {},
   "source": [
    "# Step 7."
   ]
  },
  {
   "cell_type": "code",
   "execution_count": 92,
   "id": "3a17a56c",
   "metadata": {},
   "outputs": [
    {
     "data": {
      "text/html": [
       "<div>\n",
       "<style scoped>\n",
       "    .dataframe tbody tr th:only-of-type {\n",
       "        vertical-align: middle;\n",
       "    }\n",
       "\n",
       "    .dataframe tbody tr th {\n",
       "        vertical-align: top;\n",
       "    }\n",
       "\n",
       "    .dataframe thead tr th {\n",
       "        text-align: left;\n",
       "    }\n",
       "\n",
       "    .dataframe thead tr:last-of-type th {\n",
       "        text-align: right;\n",
       "    }\n",
       "</style>\n",
       "<table border=\"1\" class=\"dataframe\">\n",
       "  <thead>\n",
       "    <tr>\n",
       "      <th></th>\n",
       "      <th colspan=\"3\" halign=\"left\">order_frequency</th>\n",
       "    </tr>\n",
       "    <tr>\n",
       "      <th></th>\n",
       "      <th>mean</th>\n",
       "      <th>min</th>\n",
       "      <th>max</th>\n",
       "    </tr>\n",
       "    <tr>\n",
       "      <th>age_flag</th>\n",
       "      <th></th>\n",
       "      <th></th>\n",
       "      <th></th>\n",
       "    </tr>\n",
       "  </thead>\n",
       "  <tbody>\n",
       "    <tr>\n",
       "      <th>Middle Age</th>\n",
       "      <td>9.960938</td>\n",
       "      <td>0.0</td>\n",
       "      <td>30.0</td>\n",
       "    </tr>\n",
       "    <tr>\n",
       "      <th>Senior</th>\n",
       "      <td>9.937500</td>\n",
       "      <td>0.0</td>\n",
       "      <td>30.0</td>\n",
       "    </tr>\n",
       "    <tr>\n",
       "      <th>Young Adult</th>\n",
       "      <td>9.968750</td>\n",
       "      <td>0.0</td>\n",
       "      <td>30.0</td>\n",
       "    </tr>\n",
       "  </tbody>\n",
       "</table>\n",
       "</div>"
      ],
      "text/plain": [
       "            order_frequency           \n",
       "                       mean  min   max\n",
       "age_flag                              \n",
       "Middle Age         9.960938  0.0  30.0\n",
       "Senior             9.937500  0.0  30.0\n",
       "Young Adult        9.968750  0.0  30.0"
      ]
     },
     "execution_count": 92,
     "metadata": {},
     "output_type": "execute_result"
    }
   ],
   "source": [
    "#Step 7: age flag and usage frequency \n",
    "\n",
    "df_High_Activity.groupby('age_flag').agg({'order_frequency': ['mean', 'min', 'max']})"
   ]
  },
  {
   "cell_type": "code",
   "execution_count": 93,
   "id": "eb9b9f2a",
   "metadata": {},
   "outputs": [
    {
     "data": {
      "text/html": [
       "<div>\n",
       "<style scoped>\n",
       "    .dataframe tbody tr th:only-of-type {\n",
       "        vertical-align: middle;\n",
       "    }\n",
       "\n",
       "    .dataframe tbody tr th {\n",
       "        vertical-align: top;\n",
       "    }\n",
       "\n",
       "    .dataframe thead tr th {\n",
       "        text-align: left;\n",
       "    }\n",
       "\n",
       "    .dataframe thead tr:last-of-type th {\n",
       "        text-align: right;\n",
       "    }\n",
       "</style>\n",
       "<table border=\"1\" class=\"dataframe\">\n",
       "  <thead>\n",
       "    <tr>\n",
       "      <th></th>\n",
       "      <th colspan=\"3\" halign=\"left\">prices</th>\n",
       "    </tr>\n",
       "    <tr>\n",
       "      <th></th>\n",
       "      <th>mean</th>\n",
       "      <th>min</th>\n",
       "      <th>max</th>\n",
       "    </tr>\n",
       "    <tr>\n",
       "      <th>age_flag</th>\n",
       "      <th></th>\n",
       "      <th></th>\n",
       "      <th></th>\n",
       "    </tr>\n",
       "  </thead>\n",
       "  <tbody>\n",
       "    <tr>\n",
       "      <th>Middle Age</th>\n",
       "      <td>7.795775</td>\n",
       "      <td>1.0</td>\n",
       "      <td>25.0</td>\n",
       "    </tr>\n",
       "    <tr>\n",
       "      <th>Senior</th>\n",
       "      <td>7.798995</td>\n",
       "      <td>1.0</td>\n",
       "      <td>25.0</td>\n",
       "    </tr>\n",
       "    <tr>\n",
       "      <th>Young Adult</th>\n",
       "      <td>7.786221</td>\n",
       "      <td>1.0</td>\n",
       "      <td>25.0</td>\n",
       "    </tr>\n",
       "  </tbody>\n",
       "</table>\n",
       "</div>"
      ],
      "text/plain": [
       "               prices           \n",
       "                 mean  min   max\n",
       "age_flag                        \n",
       "Middle Age   7.795775  1.0  25.0\n",
       "Senior       7.798995  1.0  25.0\n",
       "Young Adult  7.786221  1.0  25.0"
      ]
     },
     "execution_count": 93,
     "metadata": {},
     "output_type": "execute_result"
    }
   ],
   "source": [
    "#Step 7: age flag and expenditure\n",
    "\n",
    "df_High_Activity.groupby('age_flag').agg({'prices': ['mean', 'min', 'max']})"
   ]
  },
  {
   "cell_type": "code",
   "execution_count": 94,
   "id": "a323f6d3",
   "metadata": {},
   "outputs": [
    {
     "data": {
      "text/html": [
       "<div>\n",
       "<style scoped>\n",
       "    .dataframe tbody tr th:only-of-type {\n",
       "        vertical-align: middle;\n",
       "    }\n",
       "\n",
       "    .dataframe tbody tr th {\n",
       "        vertical-align: top;\n",
       "    }\n",
       "\n",
       "    .dataframe thead tr th {\n",
       "        text-align: left;\n",
       "    }\n",
       "\n",
       "    .dataframe thead tr:last-of-type th {\n",
       "        text-align: right;\n",
       "    }\n",
       "</style>\n",
       "<table border=\"1\" class=\"dataframe\">\n",
       "  <thead>\n",
       "    <tr>\n",
       "      <th></th>\n",
       "      <th colspan=\"3\" halign=\"left\">order_frequency</th>\n",
       "    </tr>\n",
       "    <tr>\n",
       "      <th></th>\n",
       "      <th>mean</th>\n",
       "      <th>min</th>\n",
       "      <th>max</th>\n",
       "    </tr>\n",
       "    <tr>\n",
       "      <th>income_flag</th>\n",
       "      <th></th>\n",
       "      <th></th>\n",
       "      <th></th>\n",
       "    </tr>\n",
       "  </thead>\n",
       "  <tbody>\n",
       "    <tr>\n",
       "      <th>High income</th>\n",
       "      <td>9.789062</td>\n",
       "      <td>0.0</td>\n",
       "      <td>30.0</td>\n",
       "    </tr>\n",
       "    <tr>\n",
       "      <th>Low Income</th>\n",
       "      <td>10.515625</td>\n",
       "      <td>0.0</td>\n",
       "      <td>30.0</td>\n",
       "    </tr>\n",
       "    <tr>\n",
       "      <th>Middle Income</th>\n",
       "      <td>9.906250</td>\n",
       "      <td>0.0</td>\n",
       "      <td>30.0</td>\n",
       "    </tr>\n",
       "  </tbody>\n",
       "</table>\n",
       "</div>"
      ],
      "text/plain": [
       "              order_frequency           \n",
       "                         mean  min   max\n",
       "income_flag                             \n",
       "High income          9.789062  0.0  30.0\n",
       "Low Income          10.515625  0.0  30.0\n",
       "Middle Income        9.906250  0.0  30.0"
      ]
     },
     "execution_count": 94,
     "metadata": {},
     "output_type": "execute_result"
    }
   ],
   "source": [
    "#Step 7: income flag and usage frequency \n",
    "\n",
    "df_High_Activity.groupby('income_flag').agg({'order_frequency': ['mean', 'min', 'max']})"
   ]
  },
  {
   "cell_type": "code",
   "execution_count": 95,
   "id": "98174606",
   "metadata": {},
   "outputs": [
    {
     "data": {
      "text/html": [
       "<div>\n",
       "<style scoped>\n",
       "    .dataframe tbody tr th:only-of-type {\n",
       "        vertical-align: middle;\n",
       "    }\n",
       "\n",
       "    .dataframe tbody tr th {\n",
       "        vertical-align: top;\n",
       "    }\n",
       "\n",
       "    .dataframe thead tr th {\n",
       "        text-align: left;\n",
       "    }\n",
       "\n",
       "    .dataframe thead tr:last-of-type th {\n",
       "        text-align: right;\n",
       "    }\n",
       "</style>\n",
       "<table border=\"1\" class=\"dataframe\">\n",
       "  <thead>\n",
       "    <tr>\n",
       "      <th></th>\n",
       "      <th colspan=\"3\" halign=\"left\">prices</th>\n",
       "    </tr>\n",
       "    <tr>\n",
       "      <th></th>\n",
       "      <th>mean</th>\n",
       "      <th>min</th>\n",
       "      <th>max</th>\n",
       "    </tr>\n",
       "    <tr>\n",
       "      <th>income_flag</th>\n",
       "      <th></th>\n",
       "      <th></th>\n",
       "      <th></th>\n",
       "    </tr>\n",
       "  </thead>\n",
       "  <tbody>\n",
       "    <tr>\n",
       "      <th>High income</th>\n",
       "      <td>7.945383</td>\n",
       "      <td>1.0</td>\n",
       "      <td>25.0</td>\n",
       "    </tr>\n",
       "    <tr>\n",
       "      <th>Low Income</th>\n",
       "      <td>6.713149</td>\n",
       "      <td>1.0</td>\n",
       "      <td>25.0</td>\n",
       "    </tr>\n",
       "    <tr>\n",
       "      <th>Middle Income</th>\n",
       "      <td>7.924204</td>\n",
       "      <td>1.0</td>\n",
       "      <td>25.0</td>\n",
       "    </tr>\n",
       "  </tbody>\n",
       "</table>\n",
       "</div>"
      ],
      "text/plain": [
       "                 prices           \n",
       "                   mean  min   max\n",
       "income_flag                       \n",
       "High income    7.945383  1.0  25.0\n",
       "Low Income     6.713149  1.0  25.0\n",
       "Middle Income  7.924204  1.0  25.0"
      ]
     },
     "execution_count": 95,
     "metadata": {},
     "output_type": "execute_result"
    }
   ],
   "source": [
    "#Step 7: income flag and expenditure\n",
    "\n",
    "df_High_Activity.groupby('income_flag').agg({'prices': ['mean', 'min', 'max']})"
   ]
  },
  {
   "cell_type": "code",
   "execution_count": 96,
   "id": "ba637159",
   "metadata": {},
   "outputs": [
    {
     "data": {
      "text/html": [
       "<div>\n",
       "<style scoped>\n",
       "    .dataframe tbody tr th:only-of-type {\n",
       "        vertical-align: middle;\n",
       "    }\n",
       "\n",
       "    .dataframe tbody tr th {\n",
       "        vertical-align: top;\n",
       "    }\n",
       "\n",
       "    .dataframe thead tr th {\n",
       "        text-align: left;\n",
       "    }\n",
       "\n",
       "    .dataframe thead tr:last-of-type th {\n",
       "        text-align: right;\n",
       "    }\n",
       "</style>\n",
       "<table border=\"1\" class=\"dataframe\">\n",
       "  <thead>\n",
       "    <tr>\n",
       "      <th></th>\n",
       "      <th colspan=\"3\" halign=\"left\">order_frequency</th>\n",
       "    </tr>\n",
       "    <tr>\n",
       "      <th></th>\n",
       "      <th>mean</th>\n",
       "      <th>min</th>\n",
       "      <th>max</th>\n",
       "    </tr>\n",
       "    <tr>\n",
       "      <th>dependants_flag</th>\n",
       "      <th></th>\n",
       "      <th></th>\n",
       "      <th></th>\n",
       "    </tr>\n",
       "  </thead>\n",
       "  <tbody>\n",
       "    <tr>\n",
       "      <th>Family</th>\n",
       "      <td>9.960938</td>\n",
       "      <td>0.0</td>\n",
       "      <td>30.0</td>\n",
       "    </tr>\n",
       "    <tr>\n",
       "      <th>Single</th>\n",
       "      <td>9.937500</td>\n",
       "      <td>0.0</td>\n",
       "      <td>30.0</td>\n",
       "    </tr>\n",
       "  </tbody>\n",
       "</table>\n",
       "</div>"
      ],
      "text/plain": [
       "                order_frequency           \n",
       "                           mean  min   max\n",
       "dependants_flag                           \n",
       "Family                 9.960938  0.0  30.0\n",
       "Single                 9.937500  0.0  30.0"
      ]
     },
     "execution_count": 96,
     "metadata": {},
     "output_type": "execute_result"
    }
   ],
   "source": [
    "#Step 7: dependants flag and usage frequency \n",
    "\n",
    "df_High_Activity.groupby('dependants_flag').agg({'order_frequency': ['mean', 'min', 'max']})"
   ]
  },
  {
   "cell_type": "code",
   "execution_count": 97,
   "id": "870ec733",
   "metadata": {},
   "outputs": [
    {
     "data": {
      "text/html": [
       "<div>\n",
       "<style scoped>\n",
       "    .dataframe tbody tr th:only-of-type {\n",
       "        vertical-align: middle;\n",
       "    }\n",
       "\n",
       "    .dataframe tbody tr th {\n",
       "        vertical-align: top;\n",
       "    }\n",
       "\n",
       "    .dataframe thead tr th {\n",
       "        text-align: left;\n",
       "    }\n",
       "\n",
       "    .dataframe thead tr:last-of-type th {\n",
       "        text-align: right;\n",
       "    }\n",
       "</style>\n",
       "<table border=\"1\" class=\"dataframe\">\n",
       "  <thead>\n",
       "    <tr>\n",
       "      <th></th>\n",
       "      <th colspan=\"3\" halign=\"left\">prices</th>\n",
       "    </tr>\n",
       "    <tr>\n",
       "      <th></th>\n",
       "      <th>mean</th>\n",
       "      <th>min</th>\n",
       "      <th>max</th>\n",
       "    </tr>\n",
       "    <tr>\n",
       "      <th>dependants_flag</th>\n",
       "      <th></th>\n",
       "      <th></th>\n",
       "      <th></th>\n",
       "    </tr>\n",
       "  </thead>\n",
       "  <tbody>\n",
       "    <tr>\n",
       "      <th>Family</th>\n",
       "      <td>7.795591</td>\n",
       "      <td>1.0</td>\n",
       "      <td>25.0</td>\n",
       "    </tr>\n",
       "    <tr>\n",
       "      <th>Single</th>\n",
       "      <td>7.794471</td>\n",
       "      <td>1.0</td>\n",
       "      <td>25.0</td>\n",
       "    </tr>\n",
       "  </tbody>\n",
       "</table>\n",
       "</div>"
      ],
      "text/plain": [
       "                   prices           \n",
       "                     mean  min   max\n",
       "dependants_flag                     \n",
       "Family           7.795591  1.0  25.0\n",
       "Single           7.794471  1.0  25.0"
      ]
     },
     "execution_count": 97,
     "metadata": {},
     "output_type": "execute_result"
    }
   ],
   "source": [
    "#Step 7: dependants flag and expenditure\n",
    "\n",
    "df_High_Activity.groupby('dependants_flag').agg({'prices': ['mean', 'min', 'max']})"
   ]
  },
  {
   "cell_type": "code",
   "execution_count": 98,
   "id": "55c7966e",
   "metadata": {},
   "outputs": [
    {
     "data": {
      "text/html": [
       "<div>\n",
       "<style scoped>\n",
       "    .dataframe tbody tr th:only-of-type {\n",
       "        vertical-align: middle;\n",
       "    }\n",
       "\n",
       "    .dataframe tbody tr th {\n",
       "        vertical-align: top;\n",
       "    }\n",
       "\n",
       "    .dataframe thead tr th {\n",
       "        text-align: left;\n",
       "    }\n",
       "\n",
       "    .dataframe thead tr:last-of-type th {\n",
       "        text-align: right;\n",
       "    }\n",
       "</style>\n",
       "<table border=\"1\" class=\"dataframe\">\n",
       "  <thead>\n",
       "    <tr>\n",
       "      <th></th>\n",
       "      <th colspan=\"3\" halign=\"left\">order_frequency</th>\n",
       "    </tr>\n",
       "    <tr>\n",
       "      <th></th>\n",
       "      <th>mean</th>\n",
       "      <th>min</th>\n",
       "      <th>max</th>\n",
       "    </tr>\n",
       "    <tr>\n",
       "      <th>alcohol_flag</th>\n",
       "      <th></th>\n",
       "      <th></th>\n",
       "      <th></th>\n",
       "    </tr>\n",
       "  </thead>\n",
       "  <tbody>\n",
       "    <tr>\n",
       "      <th>not purchased</th>\n",
       "      <td>9.960938</td>\n",
       "      <td>0.0</td>\n",
       "      <td>30.0</td>\n",
       "    </tr>\n",
       "    <tr>\n",
       "      <th>purchased</th>\n",
       "      <td>9.539062</td>\n",
       "      <td>0.0</td>\n",
       "      <td>30.0</td>\n",
       "    </tr>\n",
       "  </tbody>\n",
       "</table>\n",
       "</div>"
      ],
      "text/plain": [
       "              order_frequency           \n",
       "                         mean  min   max\n",
       "alcohol_flag                            \n",
       "not purchased        9.960938  0.0  30.0\n",
       "purchased            9.539062  0.0  30.0"
      ]
     },
     "execution_count": 98,
     "metadata": {},
     "output_type": "execute_result"
    }
   ],
   "source": [
    "#Step 7: alcohol flag and usage frequency \n",
    "\n",
    "df_High_Activity.groupby('alcohol_flag').agg({'order_frequency': ['mean', 'min', 'max']})"
   ]
  },
  {
   "cell_type": "code",
   "execution_count": 99,
   "id": "02b0c125",
   "metadata": {},
   "outputs": [
    {
     "data": {
      "text/html": [
       "<div>\n",
       "<style scoped>\n",
       "    .dataframe tbody tr th:only-of-type {\n",
       "        vertical-align: middle;\n",
       "    }\n",
       "\n",
       "    .dataframe tbody tr th {\n",
       "        vertical-align: top;\n",
       "    }\n",
       "\n",
       "    .dataframe thead tr th {\n",
       "        text-align: left;\n",
       "    }\n",
       "\n",
       "    .dataframe thead tr:last-of-type th {\n",
       "        text-align: right;\n",
       "    }\n",
       "</style>\n",
       "<table border=\"1\" class=\"dataframe\">\n",
       "  <thead>\n",
       "    <tr>\n",
       "      <th></th>\n",
       "      <th colspan=\"3\" halign=\"left\">prices</th>\n",
       "    </tr>\n",
       "    <tr>\n",
       "      <th></th>\n",
       "      <th>mean</th>\n",
       "      <th>min</th>\n",
       "      <th>max</th>\n",
       "    </tr>\n",
       "    <tr>\n",
       "      <th>alcohol_flag</th>\n",
       "      <th></th>\n",
       "      <th></th>\n",
       "      <th></th>\n",
       "    </tr>\n",
       "  </thead>\n",
       "  <tbody>\n",
       "    <tr>\n",
       "      <th>not purchased</th>\n",
       "      <td>7.793640</td>\n",
       "      <td>1.0</td>\n",
       "      <td>25.0</td>\n",
       "    </tr>\n",
       "    <tr>\n",
       "      <th>purchased</th>\n",
       "      <td>8.151446</td>\n",
       "      <td>1.0</td>\n",
       "      <td>15.0</td>\n",
       "    </tr>\n",
       "  </tbody>\n",
       "</table>\n",
       "</div>"
      ],
      "text/plain": [
       "                 prices           \n",
       "                   mean  min   max\n",
       "alcohol_flag                      \n",
       "not purchased  7.793640  1.0  25.0\n",
       "purchased      8.151446  1.0  15.0"
      ]
     },
     "execution_count": 99,
     "metadata": {},
     "output_type": "execute_result"
    }
   ],
   "source": [
    "#Step 7: alcohol flag and expenditure\n",
    "\n",
    "df_High_Activity.groupby('alcohol_flag').agg({'prices': ['mean', 'min', 'max']})"
   ]
  },
  {
   "cell_type": "code",
   "execution_count": 100,
   "id": "fb17923a",
   "metadata": {},
   "outputs": [
    {
     "data": {
      "text/html": [
       "<div>\n",
       "<style scoped>\n",
       "    .dataframe tbody tr th:only-of-type {\n",
       "        vertical-align: middle;\n",
       "    }\n",
       "\n",
       "    .dataframe tbody tr th {\n",
       "        vertical-align: top;\n",
       "    }\n",
       "\n",
       "    .dataframe thead tr th {\n",
       "        text-align: left;\n",
       "    }\n",
       "\n",
       "    .dataframe thead tr:last-of-type th {\n",
       "        text-align: right;\n",
       "    }\n",
       "</style>\n",
       "<table border=\"1\" class=\"dataframe\">\n",
       "  <thead>\n",
       "    <tr>\n",
       "      <th></th>\n",
       "      <th colspan=\"3\" halign=\"left\">order_frequency</th>\n",
       "    </tr>\n",
       "    <tr>\n",
       "      <th></th>\n",
       "      <th>mean</th>\n",
       "      <th>min</th>\n",
       "      <th>max</th>\n",
       "    </tr>\n",
       "    <tr>\n",
       "      <th>bulk_flag</th>\n",
       "      <th></th>\n",
       "      <th></th>\n",
       "      <th></th>\n",
       "    </tr>\n",
       "  </thead>\n",
       "  <tbody>\n",
       "    <tr>\n",
       "      <th>not purchased</th>\n",
       "      <td>9.960938</td>\n",
       "      <td>0.0</td>\n",
       "      <td>30.0</td>\n",
       "    </tr>\n",
       "    <tr>\n",
       "      <th>purchased</th>\n",
       "      <td>9.062500</td>\n",
       "      <td>0.0</td>\n",
       "      <td>30.0</td>\n",
       "    </tr>\n",
       "  </tbody>\n",
       "</table>\n",
       "</div>"
      ],
      "text/plain": [
       "              order_frequency           \n",
       "                         mean  min   max\n",
       "bulk_flag                               \n",
       "not purchased        9.960938  0.0  30.0\n",
       "purchased            9.062500  0.0  30.0"
      ]
     },
     "execution_count": 100,
     "metadata": {},
     "output_type": "execute_result"
    }
   ],
   "source": [
    "#Step 7: bulk flag and usage frequency \n",
    "\n",
    "df_High_Activity.groupby('bulk_flag').agg({'order_frequency': ['mean', 'min', 'max']})"
   ]
  },
  {
   "cell_type": "code",
   "execution_count": 101,
   "id": "932d09ee",
   "metadata": {},
   "outputs": [
    {
     "data": {
      "text/html": [
       "<div>\n",
       "<style scoped>\n",
       "    .dataframe tbody tr th:only-of-type {\n",
       "        vertical-align: middle;\n",
       "    }\n",
       "\n",
       "    .dataframe tbody tr th {\n",
       "        vertical-align: top;\n",
       "    }\n",
       "\n",
       "    .dataframe thead tr th {\n",
       "        text-align: left;\n",
       "    }\n",
       "\n",
       "    .dataframe thead tr:last-of-type th {\n",
       "        text-align: right;\n",
       "    }\n",
       "</style>\n",
       "<table border=\"1\" class=\"dataframe\">\n",
       "  <thead>\n",
       "    <tr>\n",
       "      <th></th>\n",
       "      <th colspan=\"3\" halign=\"left\">prices</th>\n",
       "    </tr>\n",
       "    <tr>\n",
       "      <th></th>\n",
       "      <th>mean</th>\n",
       "      <th>min</th>\n",
       "      <th>max</th>\n",
       "    </tr>\n",
       "    <tr>\n",
       "      <th>bulk_flag</th>\n",
       "      <th></th>\n",
       "      <th></th>\n",
       "      <th></th>\n",
       "    </tr>\n",
       "  </thead>\n",
       "  <tbody>\n",
       "    <tr>\n",
       "      <th>not purchased</th>\n",
       "      <td>7.794715</td>\n",
       "      <td>1.0</td>\n",
       "      <td>25.0</td>\n",
       "    </tr>\n",
       "    <tr>\n",
       "      <th>purchased</th>\n",
       "      <td>8.346919</td>\n",
       "      <td>1.4</td>\n",
       "      <td>14.1</td>\n",
       "    </tr>\n",
       "  </tbody>\n",
       "</table>\n",
       "</div>"
      ],
      "text/plain": [
       "                 prices           \n",
       "                   mean  min   max\n",
       "bulk_flag                         \n",
       "not purchased  7.794715  1.0  25.0\n",
       "purchased      8.346919  1.4  14.1"
      ]
     },
     "execution_count": 101,
     "metadata": {},
     "output_type": "execute_result"
    }
   ],
   "source": [
    "#Step 7: bulk flag and expenditure\n",
    "\n",
    "df_High_Activity.groupby('bulk_flag').agg({'prices': ['mean', 'min', 'max']})"
   ]
  },
  {
   "cell_type": "markdown",
   "id": "4c7a1490",
   "metadata": {},
   "source": [
    "# Step 8."
   ]
  },
  {
   "cell_type": "code",
   "execution_count": 102,
   "id": "6ce409c9",
   "metadata": {},
   "outputs": [],
   "source": [
    "#Step 8: create crosstab for age flag and region\n",
    "\n",
    "age_flag_crosstab = pd.crosstab(df_High_Activity['age_flag'], df_High_Activity['region'], dropna = False)"
   ]
  },
  {
   "cell_type": "code",
   "execution_count": 103,
   "id": "fe5f874c",
   "metadata": {},
   "outputs": [
    {
     "data": {
      "text/html": [
       "<div>\n",
       "<style scoped>\n",
       "    .dataframe tbody tr th:only-of-type {\n",
       "        vertical-align: middle;\n",
       "    }\n",
       "\n",
       "    .dataframe tbody tr th {\n",
       "        vertical-align: top;\n",
       "    }\n",
       "\n",
       "    .dataframe thead th {\n",
       "        text-align: right;\n",
       "    }\n",
       "</style>\n",
       "<table border=\"1\" class=\"dataframe\">\n",
       "  <thead>\n",
       "    <tr style=\"text-align: right;\">\n",
       "      <th>region</th>\n",
       "      <th>Midwest</th>\n",
       "      <th>Northeast</th>\n",
       "      <th>South</th>\n",
       "      <th>West</th>\n",
       "    </tr>\n",
       "    <tr>\n",
       "      <th>age_flag</th>\n",
       "      <th></th>\n",
       "      <th></th>\n",
       "      <th></th>\n",
       "      <th></th>\n",
       "    </tr>\n",
       "  </thead>\n",
       "  <tbody>\n",
       "    <tr>\n",
       "      <th>Middle Age</th>\n",
       "      <td>3899971</td>\n",
       "      <td>2871118</td>\n",
       "      <td>5480681</td>\n",
       "      <td>4228035</td>\n",
       "    </tr>\n",
       "    <tr>\n",
       "      <th>Senior</th>\n",
       "      <td>1800968</td>\n",
       "      <td>1395878</td>\n",
       "      <td>2551237</td>\n",
       "      <td>1989536</td>\n",
       "    </tr>\n",
       "    <tr>\n",
       "      <th>Young Adult</th>\n",
       "      <td>1462264</td>\n",
       "      <td>1112686</td>\n",
       "      <td>2128951</td>\n",
       "      <td>1606212</td>\n",
       "    </tr>\n",
       "  </tbody>\n",
       "</table>\n",
       "</div>"
      ],
      "text/plain": [
       "region       Midwest  Northeast    South     West\n",
       "age_flag                                         \n",
       "Middle Age   3899971    2871118  5480681  4228035\n",
       "Senior       1800968    1395878  2551237  1989536\n",
       "Young Adult  1462264    1112686  2128951  1606212"
      ]
     },
     "execution_count": 103,
     "metadata": {},
     "output_type": "execute_result"
    }
   ],
   "source": [
    "age_flag_crosstab"
   ]
  },
  {
   "cell_type": "code",
   "execution_count": 104,
   "id": "6eae886c",
   "metadata": {},
   "outputs": [],
   "source": [
    "#Step 8: create crosstab for income flag and region\n",
    "\n",
    "income_flag_crosstab = pd.crosstab(df_High_Activity['income_flag'], df_High_Activity['region'], dropna = False)"
   ]
  },
  {
   "cell_type": "code",
   "execution_count": 105,
   "id": "7df8eb25",
   "metadata": {},
   "outputs": [
    {
     "data": {
      "text/html": [
       "<div>\n",
       "<style scoped>\n",
       "    .dataframe tbody tr th:only-of-type {\n",
       "        vertical-align: middle;\n",
       "    }\n",
       "\n",
       "    .dataframe tbody tr th {\n",
       "        vertical-align: top;\n",
       "    }\n",
       "\n",
       "    .dataframe thead th {\n",
       "        text-align: right;\n",
       "    }\n",
       "</style>\n",
       "<table border=\"1\" class=\"dataframe\">\n",
       "  <thead>\n",
       "    <tr style=\"text-align: right;\">\n",
       "      <th>region</th>\n",
       "      <th>Midwest</th>\n",
       "      <th>Northeast</th>\n",
       "      <th>South</th>\n",
       "      <th>West</th>\n",
       "    </tr>\n",
       "    <tr>\n",
       "      <th>income_flag</th>\n",
       "      <th></th>\n",
       "      <th></th>\n",
       "      <th></th>\n",
       "      <th></th>\n",
       "    </tr>\n",
       "  </thead>\n",
       "  <tbody>\n",
       "    <tr>\n",
       "      <th>High income</th>\n",
       "      <td>917753</td>\n",
       "      <td>678310</td>\n",
       "      <td>1291471</td>\n",
       "      <td>1010374</td>\n",
       "    </tr>\n",
       "    <tr>\n",
       "      <th>Low Income</th>\n",
       "      <td>784517</td>\n",
       "      <td>587850</td>\n",
       "      <td>1143857</td>\n",
       "      <td>849925</td>\n",
       "    </tr>\n",
       "    <tr>\n",
       "      <th>Middle Income</th>\n",
       "      <td>5565437</td>\n",
       "      <td>4203908</td>\n",
       "      <td>7885134</td>\n",
       "      <td>6074128</td>\n",
       "    </tr>\n",
       "  </tbody>\n",
       "</table>\n",
       "</div>"
      ],
      "text/plain": [
       "region         Midwest  Northeast    South     West\n",
       "income_flag                                        \n",
       "High income     917753     678310  1291471  1010374\n",
       "Low Income      784517     587850  1143857   849925\n",
       "Middle Income  5565437    4203908  7885134  6074128"
      ]
     },
     "execution_count": 105,
     "metadata": {},
     "output_type": "execute_result"
    }
   ],
   "source": [
    "income_flag_crosstab"
   ]
  },
  {
   "cell_type": "code",
   "execution_count": 106,
   "id": "b3913b4f",
   "metadata": {},
   "outputs": [],
   "source": [
    "#Step 8: create crosstab for dependants flag and region\n",
    "\n",
    "dependants_flag_crosstab = pd.crosstab(df_High_Activity['dependants_flag'], df_High_Activity['region'], dropna = False)"
   ]
  },
  {
   "cell_type": "code",
   "execution_count": 107,
   "id": "eec12c12",
   "metadata": {},
   "outputs": [
    {
     "data": {
      "text/html": [
       "<div>\n",
       "<style scoped>\n",
       "    .dataframe tbody tr th:only-of-type {\n",
       "        vertical-align: middle;\n",
       "    }\n",
       "\n",
       "    .dataframe tbody tr th {\n",
       "        vertical-align: top;\n",
       "    }\n",
       "\n",
       "    .dataframe thead th {\n",
       "        text-align: right;\n",
       "    }\n",
       "</style>\n",
       "<table border=\"1\" class=\"dataframe\">\n",
       "  <thead>\n",
       "    <tr style=\"text-align: right;\">\n",
       "      <th>region</th>\n",
       "      <th>Midwest</th>\n",
       "      <th>Northeast</th>\n",
       "      <th>South</th>\n",
       "      <th>West</th>\n",
       "    </tr>\n",
       "    <tr>\n",
       "      <th>dependants_flag</th>\n",
       "      <th></th>\n",
       "      <th></th>\n",
       "      <th></th>\n",
       "      <th></th>\n",
       "    </tr>\n",
       "  </thead>\n",
       "  <tbody>\n",
       "    <tr>\n",
       "      <th>Family</th>\n",
       "      <td>5443220</td>\n",
       "      <td>4114240</td>\n",
       "      <td>7736110</td>\n",
       "      <td>5952062</td>\n",
       "    </tr>\n",
       "    <tr>\n",
       "      <th>Single</th>\n",
       "      <td>1824487</td>\n",
       "      <td>1355828</td>\n",
       "      <td>2584352</td>\n",
       "      <td>1982365</td>\n",
       "    </tr>\n",
       "  </tbody>\n",
       "</table>\n",
       "</div>"
      ],
      "text/plain": [
       "region           Midwest  Northeast    South     West\n",
       "dependants_flag                                      \n",
       "Family           5443220    4114240  7736110  5952062\n",
       "Single           1824487    1355828  2584352  1982365"
      ]
     },
     "execution_count": 107,
     "metadata": {},
     "output_type": "execute_result"
    }
   ],
   "source": [
    "dependants_flag_crosstab"
   ]
  },
  {
   "cell_type": "code",
   "execution_count": 108,
   "id": "77585caa",
   "metadata": {},
   "outputs": [],
   "source": [
    "#Step 8: create crosstab for alcohol flag and region\n",
    "\n",
    "alcohol_flag_crosstab = pd.crosstab(df_High_Activity['alcohol_flag'], df_High_Activity['region'], dropna = False)"
   ]
  },
  {
   "cell_type": "code",
   "execution_count": 111,
   "id": "32e551bc",
   "metadata": {},
   "outputs": [
    {
     "data": {
      "text/html": [
       "<div>\n",
       "<style scoped>\n",
       "    .dataframe tbody tr th:only-of-type {\n",
       "        vertical-align: middle;\n",
       "    }\n",
       "\n",
       "    .dataframe tbody tr th {\n",
       "        vertical-align: top;\n",
       "    }\n",
       "\n",
       "    .dataframe thead th {\n",
       "        text-align: right;\n",
       "    }\n",
       "</style>\n",
       "<table border=\"1\" class=\"dataframe\">\n",
       "  <thead>\n",
       "    <tr style=\"text-align: right;\">\n",
       "      <th>region</th>\n",
       "      <th>Midwest</th>\n",
       "      <th>Northeast</th>\n",
       "      <th>South</th>\n",
       "      <th>West</th>\n",
       "    </tr>\n",
       "    <tr>\n",
       "      <th>alcohol_flag</th>\n",
       "      <th></th>\n",
       "      <th></th>\n",
       "      <th></th>\n",
       "      <th></th>\n",
       "    </tr>\n",
       "  </thead>\n",
       "  <tbody>\n",
       "    <tr>\n",
       "      <th>not purchased</th>\n",
       "      <td>7233655</td>\n",
       "      <td>5445034</td>\n",
       "      <td>10271640</td>\n",
       "      <td>7897661</td>\n",
       "    </tr>\n",
       "    <tr>\n",
       "      <th>purchased</th>\n",
       "      <td>34052</td>\n",
       "      <td>25034</td>\n",
       "      <td>48822</td>\n",
       "      <td>36766</td>\n",
       "    </tr>\n",
       "  </tbody>\n",
       "</table>\n",
       "</div>"
      ],
      "text/plain": [
       "region         Midwest  Northeast     South     West\n",
       "alcohol_flag                                        \n",
       "not purchased  7233655    5445034  10271640  7897661\n",
       "purchased        34052      25034     48822    36766"
      ]
     },
     "execution_count": 111,
     "metadata": {},
     "output_type": "execute_result"
    }
   ],
   "source": [
    "alcohol_flag_crosstab"
   ]
  },
  {
   "cell_type": "code",
   "execution_count": 112,
   "id": "a81cbbb3",
   "metadata": {},
   "outputs": [],
   "source": [
    "#Step 8: create crosstab for bulk flag and region\n",
    "\n",
    "bulk_flag_crosstab = pd.crosstab(df_High_Activity['bulk_flag'], df_High_Activity['region'], dropna = False)"
   ]
  },
  {
   "cell_type": "code",
   "execution_count": 113,
   "id": "96809e2f",
   "metadata": {},
   "outputs": [
    {
     "data": {
      "text/html": [
       "<div>\n",
       "<style scoped>\n",
       "    .dataframe tbody tr th:only-of-type {\n",
       "        vertical-align: middle;\n",
       "    }\n",
       "\n",
       "    .dataframe tbody tr th {\n",
       "        vertical-align: top;\n",
       "    }\n",
       "\n",
       "    .dataframe thead th {\n",
       "        text-align: right;\n",
       "    }\n",
       "</style>\n",
       "<table border=\"1\" class=\"dataframe\">\n",
       "  <thead>\n",
       "    <tr style=\"text-align: right;\">\n",
       "      <th>region</th>\n",
       "      <th>Midwest</th>\n",
       "      <th>Northeast</th>\n",
       "      <th>South</th>\n",
       "      <th>West</th>\n",
       "    </tr>\n",
       "    <tr>\n",
       "      <th>bulk_flag</th>\n",
       "      <th></th>\n",
       "      <th></th>\n",
       "      <th></th>\n",
       "      <th></th>\n",
       "    </tr>\n",
       "  </thead>\n",
       "  <tbody>\n",
       "    <tr>\n",
       "      <th>not purchased</th>\n",
       "      <td>7259778</td>\n",
       "      <td>5464469</td>\n",
       "      <td>10309282</td>\n",
       "      <td>7925684</td>\n",
       "    </tr>\n",
       "    <tr>\n",
       "      <th>purchased</th>\n",
       "      <td>7929</td>\n",
       "      <td>5599</td>\n",
       "      <td>11180</td>\n",
       "      <td>8743</td>\n",
       "    </tr>\n",
       "  </tbody>\n",
       "</table>\n",
       "</div>"
      ],
      "text/plain": [
       "region         Midwest  Northeast     South     West\n",
       "bulk_flag                                           \n",
       "not purchased  7259778    5464469  10309282  7925684\n",
       "purchased         7929       5599     11180     8743"
      ]
     },
     "execution_count": 113,
     "metadata": {},
     "output_type": "execute_result"
    }
   ],
   "source": [
    "bulk_flag_crosstab"
   ]
  },
  {
   "cell_type": "markdown",
   "id": "cd02f17e",
   "metadata": {},
   "source": [
    "# Step 9."
   ]
  },
  {
   "cell_type": "code",
   "execution_count": 115,
   "id": "7371a993",
   "metadata": {},
   "outputs": [],
   "source": [
    "#Step 9: create crosstab for age group by region\n",
    "age_region_crosstab = pd.crosstab(df_High_Activity['region'], columns = df_High_Activity['age_flag'])\n",
    "\n",
    "# creating crosstab labels\n",
    "age_region_crosstab_labels = pd.crosstab(df_High_Activity['region'], columns = df_High_Activity['age_flag'])"
   ]
  },
  {
   "cell_type": "code",
   "execution_count": 120,
   "id": "fc33b7b7",
   "metadata": {},
   "outputs": [
    {
     "data": {
      "image/png": "[encoded data removed]",
      "text/plain": [
       "<Figure size 1200x1000 with 1 Axes>"
      ]
     },
     "metadata": {},
     "output_type": "display_data"
    }
   ],
   "source": [
    "#Step 9: create visualization for age group and region\n",
    "\n",
    "age_region_bar = age_region_crosstab.plot(kind ='bar', stacked = False, color = ['navy','mediumblue','lightblue'], figsize = (12,10))\n",
    "plt.title('Customer Age by Region', fontsize = 20)\n",
    "plt.legend(loc =\"upper center\", ncol = 3)\n",
    "plt.xlabel(\"Region\")\n",
    "plt.show()"
   ]
  },
  {
   "cell_type": "code",
   "execution_count": 121,
   "id": "c4dee876",
   "metadata": {},
   "outputs": [],
   "source": [
    "#export customer age by region visual\n",
    "\n",
    "age_region_bar.figure.savefig(os.path.join(path, '04 Analysis','Visualizations', 'age_region_bar.png'))"
   ]
  },
  {
   "cell_type": "code",
   "execution_count": 167,
   "id": "a8317e7a",
   "metadata": {},
   "outputs": [],
   "source": [
    "#Step 9: create crosstab for income level and region\n",
    "income_region=pd.crosstab(index=df_High_Activity['region'], columns=df_High_Activity['income_flag'], normalize=\"index\")\n",
    "#create crosstab labels\n",
    "income_region_labels=pd.crosstab(index=df_High_Activity['region'],columns=df_High_Activity['income_flag'])"
   ]
  },
  {
   "cell_type": "code",
   "execution_count": 170,
   "id": "246387a6",
   "metadata": {},
   "outputs": [
    {
     "data": {
      "image/png": "[encoded data removed]",
      "text/plain": [
       "<Figure size 1200x1000 with 1 Axes>"
      ]
     },
     "metadata": {},
     "output_type": "display_data"
    }
   ],
   "source": [
    "#creating bar chart for income level by region\n",
    "income_region_bar=income_region.plot(kind='bar', \n",
    "                        stacked=False, \n",
    "                        color=['green','lime','lightgreen'], \n",
    "                        figsize=(12,10))\n",
    "\n",
    "plt.title('Income Level by Region', fontsize=20)\n",
    "plt.legend(loc=\"upper center\", ncol=3)\n",
    "plt.xlabel(\"Region\")\n",
    "plt.show()"
   ]
  },
  {
   "cell_type": "code",
   "execution_count": 171,
   "id": "21772f74",
   "metadata": {},
   "outputs": [],
   "source": [
    "#export income by region bar chart\n",
    "income_region_bar.figure.savefig(os.path.join(path, '04 Analysis','Visualizations', 'income_region_bar.png'))"
   ]
  },
  {
   "cell_type": "code",
   "execution_count": 179,
   "id": "7ecfbeb5",
   "metadata": {},
   "outputs": [],
   "source": [
    "#Step 9: create crosstab for dependants flag by region\n",
    "dependants_region_bar = pd.crosstab(df_High_Activity['region'], columns = df_High_Activity['dependants_flag'])\n",
    "\n",
    "# create crosstab labels\n",
    "dependants_region_bar_labels = pd.crosstab(df_High_Activity['region'], columns = df_High_Activity['dependants_flag'])"
   ]
  },
  {
   "cell_type": "code",
   "execution_count": 180,
   "id": "385391dc",
   "metadata": {},
   "outputs": [
    {
     "data": {
      "image/png": "[encoded data removed]",
      "text/plain": [
       "<Figure size 1200x1000 with 1 Axes>"
      ]
     },
     "metadata": {},
     "output_type": "display_data"
    }
   ],
   "source": [
    "#Step 9: create visualization for dependants flag and region\n",
    "\n",
    "dependants_region_bar = dependants_region_bar.plot(kind ='bar', stacked = False, color = ['blue','orange'], figsize = (12,10))\n",
    "plt.title('Dependants vs No Dependants by Region', fontsize = 20)\n",
    "plt.legend(loc =\"upper center\", ncol = 2)\n",
    "plt.xlabel(\"Region\")\n",
    "plt.show()"
   ]
  },
  {
   "cell_type": "code",
   "execution_count": 181,
   "id": "be9201d8",
   "metadata": {},
   "outputs": [],
   "source": [
    "#export dependants flag by region visual\n",
    "\n",
    "dependants_region_bar.figure.savefig(os.path.join(path, '04 Analysis','Visualizations', 'dependants_region_bar.png'))"
   ]
  },
  {
   "cell_type": "code",
   "execution_count": 185,
   "id": "4709aa7a",
   "metadata": {},
   "outputs": [],
   "source": [
    "#Step 9: create crosstab for alcohol flag by region\n",
    "alcohol_region_bar = pd.crosstab(df_High_Activity['region'], columns = df_High_Activity['alcohol_flag'])\n",
    "\n",
    "# create crosstab labels\n",
    "alcohol_region_bar_labels = pd.crosstab(df_High_Activity['region'], columns = df_High_Activity['alcohol_flag'])"
   ]
  },
  {
   "cell_type": "code",
   "execution_count": 186,
   "id": "dd95f56e",
   "metadata": {},
   "outputs": [
    {
     "data": {
      "image/png": "[encoded data removed]",
      "text/plain": [
       "<Figure size 1200x1000 with 1 Axes>"
      ]
     },
     "metadata": {},
     "output_type": "display_data"
    }
   ],
   "source": [
    "#Step 9: create visualization for alcohol flag and region\n",
    "\n",
    "alcohol_region_bar = alcohol_region_bar.plot(kind ='bar', stacked = False, color = ['blue','lime'], figsize = (12,10))\n",
    "plt.title('Alcohol Purchase vs No Alcohol Purchase by Region', fontsize = 20)\n",
    "plt.legend(loc =\"upper center\", ncol = 2)\n",
    "plt.xlabel(\"Region\")\n",
    "plt.show()"
   ]
  },
  {
   "cell_type": "code",
   "execution_count": 187,
   "id": "a7b5fe51",
   "metadata": {},
   "outputs": [],
   "source": [
    "#export alcohol flag by region visual\n",
    "\n",
    "alcohol_region_bar.figure.savefig(os.path.join(path, '04 Analysis','Visualizations', 'alcohol_region_bar.png'))"
   ]
  },
  {
   "cell_type": "code",
   "execution_count": 190,
   "id": "6628a6e1",
   "metadata": {},
   "outputs": [],
   "source": [
    "#Step 9: create crosstab for bulk flag by region\n",
    "bulk_region_bar = pd.crosstab(df_High_Activity['region'], columns = df_High_Activity['bulk_flag'])\n",
    "\n",
    "# create crosstab labels\n",
    "bulk_region_bar_labels = pd.crosstab(df_High_Activity['region'], columns = df_High_Activity['bulk_flag'])"
   ]
  },
  {
   "cell_type": "code",
   "execution_count": 191,
   "id": "788c012e",
   "metadata": {},
   "outputs": [
    {
     "data": {
      "image/png": "[encoded data removed]",
      "text/plain": [
       "<Figure size 1200x1000 with 1 Axes>"
      ]
     },
     "metadata": {},
     "output_type": "display_data"
    }
   ],
   "source": [
    "#Step 9: create visualization for bulk flag and region\n",
    "\n",
    "bulk_region_bar = bulk_region_bar.plot(kind ='bar', stacked = False, color = ['red','mistyrose'], figsize = (12,10))\n",
    "plt.title('Bulk Purchase vs No Bulk Purchase by Region', fontsize = 20)\n",
    "plt.legend(loc =\"upper center\", ncol = 2)\n",
    "plt.xlabel(\"Region\")\n",
    "plt.show()"
   ]
  },
  {
   "cell_type": "code",
   "execution_count": 192,
   "id": "490068a2",
   "metadata": {},
   "outputs": [],
   "source": [
    "#export bulk flag by region visual\n",
    "\n",
    "bulk_region_bar.figure.savefig(os.path.join(path, '04 Analysis','Visualizations', 'bulk_region_bar.png'))"
   ]
  },
  {
   "cell_type": "code",
   "execution_count": 193,
   "id": "32124204",
   "metadata": {},
   "outputs": [],
   "source": [
    "#Step 9: create crosstab for age flag by income flag\n",
    "age_income_bar = pd.crosstab(df_High_Activity['age_flag'], columns = df_High_Activity['income_flag'])\n",
    "\n",
    "# create crosstab labels\n",
    "age_income_bar_labels = pd.crosstab(df_High_Activity['age_flag'], columns = df_High_Activity['income_flag'])"
   ]
  },
  {
   "cell_type": "code",
   "execution_count": 194,
   "id": "032229ed",
   "metadata": {},
   "outputs": [
    {
     "data": {
      "image/png": "[encoded data removed]",
      "text/plain": [
       "<Figure size 1200x1000 with 1 Axes>"
      ]
     },
     "metadata": {},
     "output_type": "display_data"
    }
   ],
   "source": [
    "#Step 9: create visualization for bulk flag and region\n",
    "\n",
    "age_income_bar = age_income_bar.plot(kind ='bar', stacked = False, color = ['navy','blue','lightblue'], figsize = (12,10))\n",
    "plt.title('Customer Age vs Income Level', fontsize = 20)\n",
    "plt.legend(loc =\"upper center\", ncol = 2)\n",
    "plt.xlabel(\"Age Group\")\n",
    "plt.show()"
   ]
  },
  {
   "cell_type": "code",
   "execution_count": 195,
   "id": "28b80721",
   "metadata": {},
   "outputs": [],
   "source": [
    "#export age group by income visual\n",
    "\n",
    "age_income_bar.figure.savefig(os.path.join(path, '04 Analysis','Visualizations', 'age_income_bar.png'))"
   ]
  },
  {
   "cell_type": "code",
   "execution_count": 196,
   "id": "c41c9eba",
   "metadata": {},
   "outputs": [],
   "source": [
    "#Step 9: create crosstab for age flag by dependants flag\n",
    "age_dependants_bar = pd.crosstab(df_High_Activity['age_flag'], columns = df_High_Activity['dependants_flag'])\n",
    "\n",
    "# create crosstab labels\n",
    "age_dependants_bar_labels = pd.crosstab(df_High_Activity['age_flag'], columns = df_High_Activity['dependants_flag'])"
   ]
  },
  {
   "cell_type": "code",
   "execution_count": 197,
   "id": "f272af01",
   "metadata": {},
   "outputs": [
    {
     "data": {
      "image/png": "[encoded data removed]",
      "text/plain": [
       "<Figure size 1200x1000 with 1 Axes>"
      ]
     },
     "metadata": {},
     "output_type": "display_data"
    }
   ],
   "source": [
    "#Step 9: create visualization for age flag and dependants flag\n",
    "\n",
    "age_dependants_bar = age_dependants_bar.plot(kind ='bar', stacked = False, color = ['blue','yellow'], figsize = (12,10))\n",
    "plt.title('Customer Age vs Dependants', fontsize = 20)\n",
    "plt.legend(loc =\"upper center\", ncol = 2)\n",
    "plt.xlabel(\"Age Group\")\n",
    "plt.show()"
   ]
  },
  {
   "cell_type": "code",
   "execution_count": 198,
   "id": "1f847aa6",
   "metadata": {},
   "outputs": [],
   "source": [
    "#export age group by dependants visual\n",
    "\n",
    "age_dependants_bar.figure.savefig(os.path.join(path, '04 Analysis','Visualizations', 'age_dependants_bar.png'))"
   ]
  },
  {
   "cell_type": "code",
   "execution_count": 199,
   "id": "0b1d1735",
   "metadata": {},
   "outputs": [],
   "source": [
    "#Step 9: create crosstab for income flag by dependants flag\n",
    "income_dependants_bar = pd.crosstab(df_High_Activity['income_flag'], columns = df_High_Activity['dependants_flag'])\n",
    "\n",
    "# create crosstab labels\n",
    "income_dependants_bar_labels = pd.crosstab(df_High_Activity['income_flag'], columns = df_High_Activity['dependants_flag'])"
   ]
  },
  {
   "cell_type": "code",
   "execution_count": 200,
   "id": "cbf92b95",
   "metadata": {},
   "outputs": [
    {
     "data": {
      "image/png": "[encoded data removed]",
      "text/plain": [
       "<Figure size 1200x1000 with 1 Axes>"
      ]
     },
     "metadata": {},
     "output_type": "display_data"
    }
   ],
   "source": [
    "#Step 9: create visualization for income flag and dependants flag\n",
    "\n",
    "income_dependants_bar = income_dependants_bar.plot(kind ='bar', stacked = False, color = ['green','lightgreen'], figsize = (12,10))\n",
    "plt.title('Income Level vs Dependants', fontsize = 20)\n",
    "plt.legend(loc =\"upper center\", ncol = 2)\n",
    "plt.xlabel(\"Income Level\")\n",
    "plt.show()"
   ]
  },
  {
   "cell_type": "code",
   "execution_count": 201,
   "id": "d5301a51",
   "metadata": {},
   "outputs": [],
   "source": [
    "#export income group by dependants visual\n",
    "\n",
    "income_dependants_bar.figure.savefig(os.path.join(path, '04 Analysis','Visualizations', 'income_dependants_bar.png'))"
   ]
  },
  {
   "cell_type": "code",
   "execution_count": 204,
   "id": "4b1bcd42",
   "metadata": {},
   "outputs": [],
   "source": [
    "#Step 9: create crosstab for bulk flag by dependants flag\n",
    "bulk_dependants_bar = pd.crosstab(df_High_Activity['dependants_flag'], columns = df_High_Activity['bulk_flag'])\n",
    "\n",
    "# create crosstab labels\n",
    "bulk_dependants_bar_labels = pd.crosstab(df_High_Activity['dependants_flag'], columns = df_High_Activity['bulk_flag'])"
   ]
  },
  {
   "cell_type": "code",
   "execution_count": 205,
   "id": "73bdfae9",
   "metadata": {},
   "outputs": [
    {
     "data": {
      "image/png": "[encoded data removed]",
      "text/plain": [
       "<Figure size 1200x1000 with 1 Axes>"
      ]
     },
     "metadata": {},
     "output_type": "display_data"
    }
   ],
   "source": [
    "#Step 9: create visualization for bulk flag and dependants flag\n",
    "\n",
    "bulk_dependants_bar = bulk_dependants_bar.plot(kind ='bar', stacked = False, color = ['purple','thistle'], figsize = (12,10))\n",
    "plt.title('Bulk Purchase vs Dependants', fontsize = 20)\n",
    "plt.legend(loc =\"upper center\", ncol = 2)\n",
    "plt.xlabel(\"Dependants\")\n",
    "plt.show()"
   ]
  },
  {
   "cell_type": "code",
   "execution_count": 206,
   "id": "4a02980b",
   "metadata": {},
   "outputs": [],
   "source": [
    "#export bulk purchase by dependants visual\n",
    "\n",
    "bulk_dependants_bar.figure.savefig(os.path.join(path, '04 Analysis','Visualizations', 'bulk_dependants_bar.png'))"
   ]
  },
  {
   "cell_type": "code",
   "execution_count": 207,
   "id": "7169b6c5",
   "metadata": {},
   "outputs": [],
   "source": [
    "#Step 9: create crosstab for alcohol flag by dependants flag\n",
    "alcohol_dependants_bar = pd.crosstab(df_High_Activity['dependants_flag'], columns = df_High_Activity['alcohol_flag'])\n",
    "\n",
    "# create crosstab labels\n",
    "alcohol_dependants_bar_labels = pd.crosstab(df_High_Activity['dependants_flag'], columns = df_High_Activity['alcohol_flag'])"
   ]
  },
  {
   "cell_type": "code",
   "execution_count": 208,
   "id": "50921376",
   "metadata": {},
   "outputs": [
    {
     "data": {
      "image/png": "[encoded data removed]",
      "text/plain": [
       "<Figure size 1200x1000 with 1 Axes>"
      ]
     },
     "metadata": {},
     "output_type": "display_data"
    }
   ],
   "source": [
    "#Step 9: create visualization for alcohol flag and dependants flag\n",
    "\n",
    "alcohol_dependants_bar = alcohol_dependants_bar.plot(kind ='bar', stacked = False, color = ['blue','green'], figsize = (12,10))\n",
    "plt.title('Alcohol Purchase vs Dependants', fontsize = 20)\n",
    "plt.legend(loc =\"upper center\", ncol = 2)\n",
    "plt.xlabel(\"Dependants\")\n",
    "plt.show()"
   ]
  },
  {
   "cell_type": "code",
   "execution_count": 209,
   "id": "64660350",
   "metadata": {},
   "outputs": [],
   "source": [
    "#export alcohol purchase by dependants visual\n",
    "\n",
    "alcohol_dependants_bar.figure.savefig(os.path.join(path, '04 Analysis','Visualizations', 'alcohol_dependants_bar.png'))"
   ]
  },
  {
   "cell_type": "code",
   "execution_count": 210,
   "id": "df109c46",
   "metadata": {},
   "outputs": [],
   "source": [
    "#Step 9: create crosstab for alcohol flag by age flag\n",
    "alcohol_age_bar = pd.crosstab(df_High_Activity['age_flag'], columns = df_High_Activity['alcohol_flag'])\n",
    "\n",
    "# create crosstab labels\n",
    "alcohol_age_bar_labels = pd.crosstab(df_High_Activity['age_flag'], columns = df_High_Activity['alcohol_flag'])"
   ]
  },
  {
   "cell_type": "code",
   "execution_count": 211,
   "id": "592c1f2b",
   "metadata": {},
   "outputs": [
    {
     "data": {
      "image/png": "[encoded data removed]",
      "text/plain": [
       "<Figure size 1200x1000 with 1 Axes>"
      ]
     },
     "metadata": {},
     "output_type": "display_data"
    }
   ],
   "source": [
    "#Step 9: create visualization for alcohol flag and age flag\n",
    "\n",
    "alcohol_age_bar = alcohol_age_bar.plot(kind ='bar', stacked = False, color = ['blue','green'], figsize = (12,10))\n",
    "plt.title('Alcohol Purchase vs Customer Age', fontsize = 20)\n",
    "plt.legend(loc =\"upper center\", ncol = 2)\n",
    "plt.xlabel(\"Customer Age\")\n",
    "plt.show()"
   ]
  },
  {
   "cell_type": "code",
   "execution_count": 212,
   "id": "aeba4e96",
   "metadata": {},
   "outputs": [],
   "source": [
    "#export alcohol purchase by age visual\n",
    "\n",
    "alcohol_age_bar.figure.savefig(os.path.join(path, '04 Analysis','Visualizations', 'alcohol_age_bar.png'))"
   ]
  },
  {
   "cell_type": "code",
   "execution_count": 13,
   "id": "8214b35f",
   "metadata": {},
   "outputs": [],
   "source": [
    "#Step 9: create crosstab for bulk flag by age flag\n",
    "bulk_age_bar = pd.crosstab(df_High_Activity['age_flag'], columns = df_High_Activity['bulk_flag'])\n",
    "\n",
    "# create crosstab labels\n",
    "bulk_age_bar_labels = pd.crosstab(df_High_Activity['age_flag'], columns = df_High_Activity['bulk_flag'])"
   ]
  },
  {
   "cell_type": "code",
   "execution_count": 14,
   "id": "4ac23d19",
   "metadata": {},
   "outputs": [
    {
     "data": {
      "image/png": "[encoded data removed]",
      "text/plain": [
       "<Figure size 1200x1000 with 1 Axes>"
      ]
     },
     "metadata": {},
     "output_type": "display_data"
    }
   ],
   "source": [
    "#Step 9: create visualization for bulk flag and age flag\n",
    "\n",
    "bulk_age_bar = bulk_age_bar.plot(kind ='bar', stacked = False, color = ['purple','thistle'], figsize = (12,10))\n",
    "plt.title('Bulk Purchase vs Customer Age', fontsize = 20)\n",
    "plt.legend(loc =\"upper center\", ncol = 2)\n",
    "plt.xlabel(\"Customer Age\")\n",
    "plt.show()"
   ]
  },
  {
   "cell_type": "code",
   "execution_count": 15,
   "id": "c55856fa",
   "metadata": {},
   "outputs": [],
   "source": [
    "#export bulk purchase by age visual\n",
    "\n",
    "bulk_age_bar.figure.savefig(os.path.join(path, '04 Analysis','Visualizations', 'bulk_age_bar.png'))"
   ]
  },
  {
   "cell_type": "code",
   "execution_count": 213,
   "id": "b37cf52c",
   "metadata": {},
   "outputs": [],
   "source": [
    "#Step 9: create crosstab for loyalty flag by age flag\n",
    "loyalty_age_bar = pd.crosstab(df_High_Activity['age_flag'], columns = df_High_Activity['loyalty_flag'])\n",
    "\n",
    "# create crosstab labels\n",
    "loyalty_age_bar_labels = pd.crosstab(df_High_Activity['age_flag'], columns = df_High_Activity['loyalty_flag'])"
   ]
  },
  {
   "cell_type": "code",
   "execution_count": 214,
   "id": "ed708eba",
   "metadata": {},
   "outputs": [
    {
     "data": {
      "image/png": "[encoded data removed]",
      "text/plain": [
       "<Figure size 1200x1000 with 1 Axes>"
      ]
     },
     "metadata": {},
     "output_type": "display_data"
    }
   ],
   "source": [
    "#Step 9: create visualization for loyalty flag and age flag\n",
    "\n",
    "loyalty_age_bar = loyalty_age_bar.plot(kind ='bar', stacked = False, color = ['blue','green','yellow'], figsize = (12,10))\n",
    "plt.title('Customer Loyalty vs Customer Age', fontsize = 20)\n",
    "plt.legend(loc =\"upper center\", ncol = 2)\n",
    "plt.xlabel(\"Customer Age\")\n",
    "plt.show()"
   ]
  },
  {
   "cell_type": "code",
   "execution_count": 215,
   "id": "82f06b55",
   "metadata": {},
   "outputs": [],
   "source": [
    "#export loyalty purchase by age visual\n",
    "\n",
    "loyalty_age_bar.figure.savefig(os.path.join(path, '04 Analysis','Visualizations', 'loyalty_age_bar.png'))"
   ]
  },
  {
   "cell_type": "code",
   "execution_count": 216,
   "id": "e178d102",
   "metadata": {},
   "outputs": [],
   "source": [
    "#Step 9: create crosstab for loyalty flag by region\n",
    "loyalty_region_bar = pd.crosstab(df_High_Activity['region'], columns = df_High_Activity['loyalty_flag'])\n",
    "\n",
    "# create crosstab labels\n",
    "loyalty_region_bar_labels = pd.crosstab(df_High_Activity['region'], columns = df_High_Activity['loyalty_flag'])"
   ]
  },
  {
   "cell_type": "code",
   "execution_count": 217,
   "id": "cf939b24",
   "metadata": {},
   "outputs": [
    {
     "data": {
      "image/png": "[encoded data removed]",
      "text/plain": [
       "<Figure size 1200x1000 with 1 Axes>"
      ]
     },
     "metadata": {},
     "output_type": "display_data"
    }
   ],
   "source": [
    "#Step 9: create visualization for loyalty flag and region\n",
    "\n",
    "loyalty_region_bar = loyalty_region_bar.plot(kind ='bar', stacked = False, color = ['blue','green','yellow','red'], figsize = (12,10))\n",
    "plt.title('Customer Loyalty vs Region', fontsize = 20)\n",
    "plt.legend(loc =\"upper center\", ncol = 2)\n",
    "plt.xlabel(\"Region\")\n",
    "plt.show()"
   ]
  },
  {
   "cell_type": "code",
   "execution_count": 218,
   "id": "a706d92b",
   "metadata": {},
   "outputs": [],
   "source": [
    "#export loyalty purchase by region visual\n",
    "\n",
    "loyalty_region_bar.figure.savefig(os.path.join(path, '04 Analysis','Visualizations', 'loyalty_region_bar.png'))"
   ]
  },
  {
   "cell_type": "code",
   "execution_count": 219,
   "id": "6897498f",
   "metadata": {},
   "outputs": [],
   "source": [
    "#Step 9: create crosstab for loyalty flag by income\n",
    "loyalty_income_bar = pd.crosstab(df_High_Activity['income_flag'], columns = df_High_Activity['loyalty_flag'])\n",
    "\n",
    "# create crosstab labels\n",
    "loyalty_income_bar_labels = pd.crosstab(df_High_Activity['income_flag'], columns = df_High_Activity['loyalty_flag'])"
   ]
  },
  {
   "cell_type": "code",
   "execution_count": 220,
   "id": "b91a8ed8",
   "metadata": {},
   "outputs": [
    {
     "data": {
      "image/png": "[encoded data removed]",
      "text/plain": [
       "<Figure size 1200x1000 with 1 Axes>"
      ]
     },
     "metadata": {},
     "output_type": "display_data"
    }
   ],
   "source": [
    "#Step 9: create visualization for loyalty flag and income\n",
    "\n",
    "loyalty_income_bar = loyalty_income_bar.plot(kind ='bar', stacked = False, color = ['blue','green','yellow',], figsize = (12,10))\n",
    "plt.title('Customer Loyalty vs Income Level', fontsize = 20)\n",
    "plt.legend(loc =\"upper center\", ncol = 2)\n",
    "plt.xlabel(\"Income Level\")\n",
    "plt.show()"
   ]
  },
  {
   "cell_type": "code",
   "execution_count": 221,
   "id": "de6f01d3",
   "metadata": {},
   "outputs": [],
   "source": [
    "#export loyalty purchase by income visual\n",
    "\n",
    "loyalty_income_bar.figure.savefig(os.path.join(path, '04 Analysis','Visualizations', 'loyalty_income_bar.png'))"
   ]
  },
  {
   "cell_type": "code",
   "execution_count": 222,
   "id": "ecc76dfd",
   "metadata": {},
   "outputs": [],
   "source": [
    "#exporting High Activity Customer dataframe\n",
    "df_High_Activity.to_pickle(os.path.join(path, '02 Data','Prepared Data', 'Instacart_Final.pkl'))"
   ]
  },
  {
   "cell_type": "code",
   "execution_count": 5,
   "id": "ecba157d",
   "metadata": {},
   "outputs": [
    {
     "data": {
      "image/png": "[encoded data removed]",
      "text/plain": [
       "<Figure size 640x480 with 1 Axes>"
      ]
     },
     "metadata": {},
     "output_type": "display_data"
    }
   ],
   "source": [
    "#create department id order frequency visualization\n",
    "\n",
    "dept_freq = ords_prods_all['department_id'].value_counts().plot.bar()\n",
    "plt.title('Order Frequency by Department', fontsize = 20)\n",
    "plt.xlabel(\"Department\")\n",
    "plt.show()"
   ]
  },
  {
   "cell_type": "code",
   "execution_count": 6,
   "id": "9cea6fc9",
   "metadata": {},
   "outputs": [],
   "source": [
    "#export deptartment freq visual\n",
    "\n",
    "dept_freq.figure.savefig(os.path.join(path, '04 Analysis','Visualizations', 'dept_freq_bar.png'))"
   ]
  },
  {
   "cell_type": "code",
   "execution_count": null,
   "id": "a8197945",
   "metadata": {},
   "outputs": [],
   "source": []
  }
 ],
 "metadata": {
  "kernelspec": {
   "display_name": "Python 3 (ipykernel)",
   "language": "python",
   "name": "python3"
  },
  "language_info": {
   "codemirror_mode": {
    "name": "ipython",
    "version": 3
   },
   "file_extension": ".py",
   "mimetype": "text/x-python",
   "name": "python",
   "nbconvert_exporter": "python",
   "pygments_lexer": "ipython3",
   "version": "3.9.13"
  }
 },
 "nbformat": 4,
 "nbformat_minor": 5
}
